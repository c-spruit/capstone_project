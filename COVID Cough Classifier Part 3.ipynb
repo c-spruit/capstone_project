{
 "cells": [
  {
   "cell_type": "markdown",
   "metadata": {},
   "source": [
    "## Import"
   ]
  },
  {
   "cell_type": "code",
   "execution_count": 147,
   "metadata": {},
   "outputs": [],
   "source": [
    "import pandas as pd\n",
    "import numpy as np\n",
    "import librosa\n",
    "import matplotlib.pyplot as plt\n",
    "import seaborn as sns\n",
    "import os\n",
    "import subprocess\n",
    "from pathlib import Path\n",
    "import math\n",
    "import random\n",
    "import librosa.display\n",
    "import shutil\n",
    "\n",
    "from sklearn.neighbors import KNeighborsClassifier\n",
    "from sklearn.linear_model import LogisticRegression,LogisticRegressionCV\n",
    "from sklearn.model_selection import train_test_split,GridSearchCV, cross_val_score\n",
    "from sklearn.linear_model import LogisticRegression,LogisticRegressionCV\n",
    "from sklearn.model_selection import train_test_split,GridSearchCV\n",
    "from sklearn.preprocessing import StandardScaler\n",
    "from sklearn.svm import SVC, LinearSVC\n",
    "from sklearn.tree import DecisionTreeClassifier\n",
    "from sklearn.ensemble import VotingClassifier, StackingClassifier\n",
    "from sklearn.metrics import plot_confusion_matrix\n",
    "from sklearn.metrics import confusion_matrix\n",
    "from sklearn.metrics import classification_report\n",
    "from sklearn.metrics import roc_auc_score, average_precision_score, plot_roc_curve, plot_precision_recall_curve"
   ]
  },
  {
   "cell_type": "code",
   "execution_count": 4,
   "metadata": {},
   "outputs": [],
   "source": [
    "#load csvs from previous notebooks\n",
    "\n",
    "df_seg0=pd.read_csv('df_seg0.csv')\n",
    "df_seg1=pd.read_csv('df_seg1.csv')\n",
    "df_seg2=pd.read_csv('df_seg2.csv')"
   ]
  },
  {
   "cell_type": "code",
   "execution_count": 70,
   "metadata": {},
   "outputs": [],
   "source": [
    "df_seg2=pd.read_csv('df_seg2.csv')"
   ]
  },
  {
   "cell_type": "code",
   "execution_count": 14,
   "metadata": {},
   "outputs": [],
   "source": [
    "mfcc_names=['mfcc_'+str(x) for x in range(1,14)]\n",
    "spec_names = [\"Spectral_Centroid\",\"Spectral_Rolloff\",\"Spectral_Spread\",\"Spectral_Skewness\",\"Spectral_Kurtosis\",\"Spectral_Bandwidth\"]\n",
    "total_features=mfcc_names+spec_names+['zcr','rms']"
   ]
  },
  {
   "cell_type": "code",
   "execution_count": 17,
   "metadata": {
    "scrolled": true
   },
   "outputs": [
    {
     "data": {
      "text/plain": [
       "Index(['uuid', 'cough_detected', 'status', 'x', 'fs', 'target_binary',\n",
       "       'mfcc_1', 'mfcc_2', 'mfcc_3', 'mfcc_4', 'mfcc_5', 'mfcc_6', 'mfcc_7',\n",
       "       'mfcc_8', 'mfcc_9', 'mfcc_10', 'mfcc_11', 'mfcc_12', 'mfcc_13',\n",
       "       'Spectral_Centroid', 'Spectral_Rolloff', 'Spectral_Spread',\n",
       "       'Spectral_Skewness', 'Spectral_Kurtosis', 'Spectral_Bandwidth', 'zcr',\n",
       "       'rms'],\n",
       "      dtype='object')"
      ]
     },
     "execution_count": 17,
     "metadata": {},
     "output_type": "execute_result"
    }
   ],
   "source": [
    "df_seg0.columns"
   ]
  },
  {
   "cell_type": "code",
   "execution_count": null,
   "metadata": {},
   "outputs": [],
   "source": []
  },
  {
   "cell_type": "markdown",
   "metadata": {},
   "source": [
    "## Model - No Segmentation"
   ]
  },
  {
   "cell_type": "code",
   "execution_count": 2,
   "metadata": {},
   "outputs": [],
   "source": [
    "#try different classification models on the dataframe with no segmentation"
   ]
  },
  {
   "cell_type": "code",
   "execution_count": 48,
   "metadata": {},
   "outputs": [
    {
     "data": {
      "text/plain": [
       "0    0.522867\n",
       "1    0.477133\n",
       "Name: target_binary, dtype: float64"
      ]
     },
     "execution_count": 48,
     "metadata": {},
     "output_type": "execute_result"
    }
   ],
   "source": [
    "#basline\n",
    "\n",
    "df_seg0.target_binary.value_counts(normalize=True)"
   ]
  },
  {
   "cell_type": "code",
   "execution_count": 15,
   "metadata": {},
   "outputs": [],
   "source": [
    "X=df_seg0[total_features]"
   ]
  },
  {
   "cell_type": "code",
   "execution_count": 18,
   "metadata": {},
   "outputs": [],
   "source": [
    "y=df_seg0.target_binary"
   ]
  },
  {
   "cell_type": "code",
   "execution_count": 19,
   "metadata": {},
   "outputs": [],
   "source": [
    "scaler=StandardScaler()"
   ]
  },
  {
   "cell_type": "code",
   "execution_count": 20,
   "metadata": {},
   "outputs": [],
   "source": [
    "X_train, X_test, y_train, y_test = train_test_split(X, y, test_size=0.2, random_state = 1)"
   ]
  },
  {
   "cell_type": "code",
   "execution_count": 21,
   "metadata": {},
   "outputs": [],
   "source": [
    "X_train=scaler.fit_transform(X_train)"
   ]
  },
  {
   "cell_type": "code",
   "execution_count": 22,
   "metadata": {},
   "outputs": [],
   "source": [
    "X_test=scaler.transform(X_test)"
   ]
  },
  {
   "cell_type": "markdown",
   "metadata": {},
   "source": [
    "#### Logisitic Regression"
   ]
  },
  {
   "cell_type": "code",
   "execution_count": 23,
   "metadata": {},
   "outputs": [],
   "source": [
    "model=LogisticRegression(max_iter=100000)"
   ]
  },
  {
   "cell_type": "code",
   "execution_count": 24,
   "metadata": {},
   "outputs": [
    {
     "data": {
      "text/plain": [
       "LogisticRegression(max_iter=100000)"
      ]
     },
     "execution_count": 24,
     "metadata": {},
     "output_type": "execute_result"
    }
   ],
   "source": [
    "model.fit(X_train,y_train)"
   ]
  },
  {
   "cell_type": "code",
   "execution_count": 25,
   "metadata": {},
   "outputs": [
    {
     "name": "stdout",
     "output_type": "stream",
     "text": [
      "train: 0.5955631399317406\n",
      "test: 0.5733788395904437\n",
      "cv: 0.562291325695581\n"
     ]
    }
   ],
   "source": [
    "print('train:',model.score(X_train,y_train))\n",
    "print('test:',model.score(X_test,y_test))\n",
    "print('cv:',cross_val_score(model,X_train,y_train,cv=5).mean())"
   ]
  },
  {
   "cell_type": "markdown",
   "metadata": {},
   "source": [
    "##### GridSearch"
   ]
  },
  {
   "cell_type": "code",
   "execution_count": 26,
   "metadata": {},
   "outputs": [],
   "source": [
    "param_grid={'C':np.logspace(-2,0,10),\n",
    "          'l1_ratio': [0.0001,0.1,0.5,0.7,0.9],\n",
    "            'penalty':['elasticnet'],\n",
    "            'solver':['saga']\n",
    "           }"
   ]
  },
  {
   "cell_type": "code",
   "execution_count": 27,
   "metadata": {},
   "outputs": [],
   "source": [
    "gs=GridSearchCV(model,\n",
    "               param_grid,\n",
    "               scoring='accuracy',\n",
    "               cv=5,\n",
    "               n_jobs=-2)"
   ]
  },
  {
   "cell_type": "code",
   "execution_count": 28,
   "metadata": {},
   "outputs": [
    {
     "name": "stdout",
     "output_type": "stream",
     "text": [
      "train: 0.5921501706484642\n",
      "test: 0.5631399317406144\n",
      "cv: 0.5861829423531552\n"
     ]
    }
   ],
   "source": [
    "gs.fit(X_train,y_train)\n",
    "print('train:',gs.score(X_train,y_train))\n",
    "print('test:',gs.score(X_test,y_test))\n",
    "print('cv:',gs.best_score_)"
   ]
  },
  {
   "cell_type": "code",
   "execution_count": 29,
   "metadata": {},
   "outputs": [
    {
     "data": {
      "text/plain": [
       "{'C': 0.016681005372000592,\n",
       " 'l1_ratio': 0.5,\n",
       " 'penalty': 'elasticnet',\n",
       " 'solver': 'saga'}"
      ]
     },
     "execution_count": 29,
     "metadata": {},
     "output_type": "execute_result"
    }
   ],
   "source": [
    "gs.best_params_"
   ]
  },
  {
   "cell_type": "markdown",
   "metadata": {},
   "source": [
    "#### Decision Tree"
   ]
  },
  {
   "cell_type": "code",
   "execution_count": 30,
   "metadata": {},
   "outputs": [],
   "source": [
    "from sklearn.tree import DecisionTreeClassifier"
   ]
  },
  {
   "cell_type": "code",
   "execution_count": 31,
   "metadata": {},
   "outputs": [],
   "source": [
    "d=DecisionTreeClassifier()\n"
   ]
  },
  {
   "cell_type": "code",
   "execution_count": 32,
   "metadata": {},
   "outputs": [
    {
     "data": {
      "text/plain": [
       "{'ccp_alpha': 0.0,\n",
       " 'class_weight': None,\n",
       " 'criterion': 'gini',\n",
       " 'max_depth': None,\n",
       " 'max_features': None,\n",
       " 'max_leaf_nodes': None,\n",
       " 'min_impurity_decrease': 0.0,\n",
       " 'min_impurity_split': None,\n",
       " 'min_samples_leaf': 1,\n",
       " 'min_samples_split': 2,\n",
       " 'min_weight_fraction_leaf': 0.0,\n",
       " 'random_state': None,\n",
       " 'splitter': 'best'}"
      ]
     },
     "execution_count": 32,
     "metadata": {},
     "output_type": "execute_result"
    }
   ],
   "source": [
    "d.get_params()"
   ]
  },
  {
   "cell_type": "code",
   "execution_count": 37,
   "metadata": {},
   "outputs": [],
   "source": [
    "param_grid={'max_depth':[14,15,16,17,18],\n",
    "            'max_leaf_nodes': [10,15,20,30,40,50,60,70,80],\n",
    "            'criterion': ['gini','entropy']}"
   ]
  },
  {
   "cell_type": "code",
   "execution_count": 38,
   "metadata": {},
   "outputs": [],
   "source": [
    "gs=GridSearchCV(d,\n",
    "               param_grid,\n",
    "               scoring='accuracy',\n",
    "               cv=5,\n",
    "               n_jobs=-2)"
   ]
  },
  {
   "cell_type": "code",
   "execution_count": 39,
   "metadata": {},
   "outputs": [
    {
     "name": "stdout",
     "output_type": "stream",
     "text": [
      "train: 0.6510238907849829\n",
      "test: 0.5563139931740614\n",
      "cv: 0.5631460265502819\n"
     ]
    }
   ],
   "source": [
    "gs.fit(X_train,y_train)\n",
    "print('train:',gs.score(X_train,y_train))\n",
    "print('test:',gs.score(X_test,y_test))\n",
    "print('cv:',gs.best_score_)"
   ]
  },
  {
   "cell_type": "code",
   "execution_count": 40,
   "metadata": {},
   "outputs": [
    {
     "data": {
      "text/plain": [
       "{'criterion': 'entropy', 'max_depth': 17, 'max_leaf_nodes': 20}"
      ]
     },
     "execution_count": 40,
     "metadata": {},
     "output_type": "execute_result"
    }
   ],
   "source": [
    "gs.best_params_"
   ]
  },
  {
   "cell_type": "code",
   "execution_count": null,
   "metadata": {},
   "outputs": [],
   "source": []
  },
  {
   "cell_type": "markdown",
   "metadata": {},
   "source": [
    "#### KNN"
   ]
  },
  {
   "cell_type": "code",
   "execution_count": 41,
   "metadata": {},
   "outputs": [
    {
     "name": "stdout",
     "output_type": "stream",
     "text": [
      "train: 0.6621160409556314\n",
      "test: 0.5460750853242321\n",
      "params: {'metric': 'cosine', 'n_neighbors': 8, 'weights': 'uniform'}\n",
      "cv: 0.5571449354428077\n"
     ]
    },
    {
     "name": "stderr",
     "output_type": "stream",
     "text": [
      "/Users/christian/anaconda3/lib/python3.7/site-packages/sklearn/model_selection/_search.py:925: UserWarning: One or more of the test scores are non-finite: [0.53923259 0.54179305 0.54605565 0.55033279 0.55201673 0.55116567\n",
      " 0.55714494 0.55034734 0.54516821 0.54004728 0.5477214  0.55202764\n",
      " 0.51705765 0.51876341 0.52555374 0.54350973 0.53665394 0.5366503\n",
      " 0.54517912 0.54177487 0.52558647 0.5272886  0.53668667 0.53494454\n",
      "        nan        nan        nan        nan        nan        nan\n",
      "        nan        nan        nan        nan        nan        nan]\n",
      "  category=UserWarning\n"
     ]
    }
   ],
   "source": [
    "knn=KNeighborsClassifier()\n",
    "\n",
    "param_grid={'n_neighbors':[5,6,7,8,9,10],\n",
    "            'weights':['uniform', 'distance'],\n",
    "            'metric':['cosine','euclidean','manhatten'],\n",
    "           }\n",
    "\n",
    "gs=GridSearchCV(knn,\n",
    "               param_grid,\n",
    "               scoring='accuracy',\n",
    "               cv=5,\n",
    "               n_jobs=-2)\n",
    "\n",
    "gs.fit(X_train,y_train)\n",
    "\n",
    "print('train:',gs.score(X_train,y_train))\n",
    "print('test:',gs.score(X_test,y_test))\n",
    "print('params:',gs.best_params_)\n",
    "print('cv:',gs.best_score_)"
   ]
  },
  {
   "cell_type": "markdown",
   "metadata": {},
   "source": [
    "#### SVM"
   ]
  },
  {
   "cell_type": "code",
   "execution_count": 42,
   "metadata": {},
   "outputs": [],
   "source": [
    "svc=SVC(max_iter=100000)"
   ]
  },
  {
   "cell_type": "code",
   "execution_count": 43,
   "metadata": {},
   "outputs": [
    {
     "data": {
      "text/plain": [
       "{'C': 1.0,\n",
       " 'break_ties': False,\n",
       " 'cache_size': 200,\n",
       " 'class_weight': None,\n",
       " 'coef0': 0.0,\n",
       " 'decision_function_shape': 'ovr',\n",
       " 'degree': 3,\n",
       " 'gamma': 'scale',\n",
       " 'kernel': 'rbf',\n",
       " 'max_iter': 100000,\n",
       " 'probability': False,\n",
       " 'random_state': None,\n",
       " 'shrinking': True,\n",
       " 'tol': 0.001,\n",
       " 'verbose': False}"
      ]
     },
     "execution_count": 43,
     "metadata": {},
     "output_type": "execute_result"
    }
   ],
   "source": [
    "svc.get_params()"
   ]
  },
  {
   "cell_type": "code",
   "execution_count": 44,
   "metadata": {},
   "outputs": [],
   "source": [
    "param_grid={'C':np.logspace(0,1,10),\n",
    "           'gamma':np.logspace(-3,0,10),\n",
    "            'kernel':['rbf','sigmoid']\n",
    "           }"
   ]
  },
  {
   "cell_type": "code",
   "execution_count": 45,
   "metadata": {},
   "outputs": [],
   "source": [
    "gs = GridSearchCV(svc,\n",
    "                  param_grid,\n",
    "                  scoring='accuracy',\n",
    "                  cv=5,\n",
    "                  n_jobs=-2\n",
    "                  )"
   ]
  },
  {
   "cell_type": "code",
   "execution_count": 46,
   "metadata": {
    "scrolled": false
   },
   "outputs": [
    {
     "name": "stdout",
     "output_type": "stream",
     "text": [
      "train: 0.5861774744027304\n",
      "test: 0.5426621160409556\n",
      "params: {'C': 1.6681005372000588, 'gamma': 0.0021544346900318843, 'kernel': 'rbf'}\n",
      "cv: 0.5810474631751228\n"
     ]
    }
   ],
   "source": [
    "gs.fit(X_train,y_train)\n",
    "\n",
    "print('train:',gs.score(X_train,y_train))\n",
    "\n",
    "print('test:',gs.score(X_test,y_test))\n",
    "\n",
    "print('params:',gs.best_params_)\n",
    "\n",
    "print('cv:',gs.best_score_)"
   ]
  },
  {
   "cell_type": "code",
   "execution_count": null,
   "metadata": {},
   "outputs": [],
   "source": []
  },
  {
   "cell_type": "code",
   "execution_count": null,
   "metadata": {},
   "outputs": [],
   "source": []
  },
  {
   "cell_type": "markdown",
   "metadata": {},
   "source": [
    "## Model - Coarse Segmentation"
   ]
  },
  {
   "cell_type": "code",
   "execution_count": 49,
   "metadata": {},
   "outputs": [],
   "source": [
    "X=df_seg1[total_features]\n",
    "y=df_seg1.target_binary\n",
    "\n",
    "scaler=StandardScaler()\n",
    "X_train, X_test, y_train, y_test = train_test_split(X, y, test_size=0.2, random_state = 1)\n",
    "X_train=scaler.fit_transform(X_train)\n",
    "X_test=scaler.transform(X_test)"
   ]
  },
  {
   "cell_type": "markdown",
   "metadata": {},
   "source": [
    "#### Logisitic Regression"
   ]
  },
  {
   "cell_type": "code",
   "execution_count": 50,
   "metadata": {},
   "outputs": [],
   "source": [
    "model=LogisticRegression(max_iter=100000)"
   ]
  },
  {
   "cell_type": "code",
   "execution_count": 51,
   "metadata": {},
   "outputs": [
    {
     "name": "stdout",
     "output_type": "stream",
     "text": [
      "train: 0.5808383233532934\n",
      "test: 0.5824468085106383\n",
      "cv: 0.5655419262469528\n"
     ]
    }
   ],
   "source": [
    "model.fit(X_train,y_train)\n",
    "print('train:',model.score(X_train,y_train))\n",
    "print('test:',model.score(X_test,y_test))\n",
    "print('cv:',cross_val_score(model,X_train,y_train,cv=5).mean())"
   ]
  },
  {
   "cell_type": "markdown",
   "metadata": {},
   "source": [
    "##### GridSearch"
   ]
  },
  {
   "cell_type": "code",
   "execution_count": 52,
   "metadata": {},
   "outputs": [],
   "source": [
    "param_grid={'C':np.logspace(-3,0,10),\n",
    "          'l1_ratio': [0.0001,0.1,0.5,0.8,0.9,1],\n",
    "            'penalty':['l2','l1'],\n",
    "            'penalty':['elasticnet'],\n",
    "            'solver':['saga']\n",
    "           }"
   ]
  },
  {
   "cell_type": "code",
   "execution_count": 53,
   "metadata": {},
   "outputs": [],
   "source": [
    "gs=GridSearchCV(model,\n",
    "               param_grid,\n",
    "               scoring='accuracy',\n",
    "               cv=5,\n",
    "               n_jobs=-2)"
   ]
  },
  {
   "cell_type": "code",
   "execution_count": 54,
   "metadata": {},
   "outputs": [
    {
     "name": "stdout",
     "output_type": "stream",
     "text": [
      "train: 0.5818363273453094\n",
      "test: 0.5664893617021277\n",
      "cv: 0.5718614048568\n"
     ]
    }
   ],
   "source": [
    "gs.fit(X_train,y_train)\n",
    "print('train:',gs.score(X_train,y_train))\n",
    "print('test:',gs.score(X_test,y_test))\n",
    "print('cv:',gs.best_score_)"
   ]
  },
  {
   "cell_type": "code",
   "execution_count": 55,
   "metadata": {},
   "outputs": [
    {
     "data": {
      "text/plain": [
       "{'C': 0.046415888336127774,\n",
       " 'l1_ratio': 0.8,\n",
       " 'penalty': 'elasticnet',\n",
       " 'solver': 'saga'}"
      ]
     },
     "execution_count": 55,
     "metadata": {},
     "output_type": "execute_result"
    }
   ],
   "source": [
    "gs.best_params_"
   ]
  },
  {
   "cell_type": "markdown",
   "metadata": {},
   "source": [
    "#### Decision Tree"
   ]
  },
  {
   "cell_type": "code",
   "execution_count": 56,
   "metadata": {},
   "outputs": [],
   "source": [
    "from sklearn.tree import DecisionTreeClassifier"
   ]
  },
  {
   "cell_type": "code",
   "execution_count": 57,
   "metadata": {},
   "outputs": [],
   "source": [
    "d=DecisionTreeClassifier()\n"
   ]
  },
  {
   "cell_type": "code",
   "execution_count": 58,
   "metadata": {},
   "outputs": [
    {
     "data": {
      "text/plain": [
       "{'ccp_alpha': 0.0,\n",
       " 'class_weight': None,\n",
       " 'criterion': 'gini',\n",
       " 'max_depth': None,\n",
       " 'max_features': None,\n",
       " 'max_leaf_nodes': None,\n",
       " 'min_impurity_decrease': 0.0,\n",
       " 'min_impurity_split': None,\n",
       " 'min_samples_leaf': 1,\n",
       " 'min_samples_split': 2,\n",
       " 'min_weight_fraction_leaf': 0.0,\n",
       " 'random_state': None,\n",
       " 'splitter': 'best'}"
      ]
     },
     "execution_count": 58,
     "metadata": {},
     "output_type": "execute_result"
    }
   ],
   "source": [
    "d.get_params()"
   ]
  },
  {
   "cell_type": "code",
   "execution_count": 59,
   "metadata": {},
   "outputs": [],
   "source": [
    "param_grid={'max_depth':[11,12,13,14,15],\n",
    "            'max_leaf_nodes': [10,15,20,30,40,50,60],\n",
    "            'criterion': ['gini','entropy']}"
   ]
  },
  {
   "cell_type": "code",
   "execution_count": 60,
   "metadata": {},
   "outputs": [],
   "source": [
    "gs=GridSearchCV(d,\n",
    "               param_grid,\n",
    "               scoring='accuracy',\n",
    "               cv=5,\n",
    "               n_jobs=-2)"
   ]
  },
  {
   "cell_type": "code",
   "execution_count": 61,
   "metadata": {},
   "outputs": [
    {
     "name": "stdout",
     "output_type": "stream",
     "text": [
      "train: 0.6796407185628742\n",
      "test: 0.5279255319148937\n",
      "cv: 0.5582080806629041\n"
     ]
    }
   ],
   "source": [
    "gs.fit(X_train,y_train)\n",
    "print('train:',gs.score(X_train,y_train))\n",
    "print('test:',gs.score(X_test,y_test))\n",
    "print('cv:',gs.best_score_)"
   ]
  },
  {
   "cell_type": "code",
   "execution_count": 62,
   "metadata": {},
   "outputs": [
    {
     "data": {
      "text/plain": [
       "{'criterion': 'gini', 'max_depth': 11, 'max_leaf_nodes': 40}"
      ]
     },
     "execution_count": 62,
     "metadata": {},
     "output_type": "execute_result"
    }
   ],
   "source": [
    "gs.best_params_"
   ]
  },
  {
   "cell_type": "markdown",
   "metadata": {},
   "source": [
    "#### KNN"
   ]
  },
  {
   "cell_type": "code",
   "execution_count": 63,
   "metadata": {},
   "outputs": [
    {
     "name": "stdout",
     "output_type": "stream",
     "text": [
      "train: 1.0\n",
      "test: 0.714095744680851\n",
      "params: {'metric': 'cosine', 'n_neighbors': 6, 'weights': 'distance'}\n",
      "cv: 0.6526929093813743\n"
     ]
    }
   ],
   "source": [
    "knn=KNeighborsClassifier()\n",
    "\n",
    "param_grid={'n_neighbors':[5,6,7,8,9,10],\n",
    "            'weights':['uniform', 'distance'],\n",
    "            'metric':['cosine'],\n",
    "           }\n",
    "\n",
    "gs=GridSearchCV(knn,\n",
    "               param_grid,\n",
    "               scoring='accuracy',\n",
    "               cv=5,\n",
    "               n_jobs=-2)\n",
    "\n",
    "gs.fit(X_train,y_train)\n",
    "\n",
    "print('train:',gs.score(X_train,y_train))\n",
    "print('test:',gs.score(X_test,y_test))\n",
    "print('params:',gs.best_params_)\n",
    "print('cv:',gs.best_score_)"
   ]
  },
  {
   "cell_type": "code",
   "execution_count": 64,
   "metadata": {},
   "outputs": [
    {
     "data": {
      "text/plain": [
       "{'algorithm': 'auto',\n",
       " 'leaf_size': 30,\n",
       " 'metric': 'minkowski',\n",
       " 'metric_params': None,\n",
       " 'n_jobs': None,\n",
       " 'n_neighbors': 5,\n",
       " 'p': 2,\n",
       " 'weights': 'uniform'}"
      ]
     },
     "execution_count": 64,
     "metadata": {},
     "output_type": "execute_result"
    }
   ],
   "source": [
    "knn.get_params()"
   ]
  },
  {
   "cell_type": "markdown",
   "metadata": {},
   "source": [
    "#### SVM"
   ]
  },
  {
   "cell_type": "code",
   "execution_count": 65,
   "metadata": {},
   "outputs": [],
   "source": [
    "svc=SVC(max_iter=100000)"
   ]
  },
  {
   "cell_type": "code",
   "execution_count": 66,
   "metadata": {},
   "outputs": [
    {
     "data": {
      "text/plain": [
       "{'C': 1.0,\n",
       " 'break_ties': False,\n",
       " 'cache_size': 200,\n",
       " 'class_weight': None,\n",
       " 'coef0': 0.0,\n",
       " 'decision_function_shape': 'ovr',\n",
       " 'degree': 3,\n",
       " 'gamma': 'scale',\n",
       " 'kernel': 'rbf',\n",
       " 'max_iter': 100000,\n",
       " 'probability': False,\n",
       " 'random_state': None,\n",
       " 'shrinking': True,\n",
       " 'tol': 0.001,\n",
       " 'verbose': False}"
      ]
     },
     "execution_count": 66,
     "metadata": {},
     "output_type": "execute_result"
    }
   ],
   "source": [
    "svc.get_params()"
   ]
  },
  {
   "cell_type": "code",
   "execution_count": 67,
   "metadata": {},
   "outputs": [],
   "source": [
    "param_grid={'C':np.logspace(0,1,10),\n",
    "           'gamma':np.logspace(-1,0,10),\n",
    "            'kernel':['rbf']\n",
    "           }"
   ]
  },
  {
   "cell_type": "code",
   "execution_count": 68,
   "metadata": {},
   "outputs": [],
   "source": [
    "gs = GridSearchCV(svc,\n",
    "                  param_grid,\n",
    "                  scoring='accuracy',\n",
    "                  cv=5,\n",
    "                  n_jobs=-2\n",
    "                  )"
   ]
  },
  {
   "cell_type": "code",
   "execution_count": 69,
   "metadata": {},
   "outputs": [
    {
     "name": "stdout",
     "output_type": "stream",
     "text": [
      "train: 0.9863606121091151\n",
      "test: 0.6968085106382979\n",
      "params: {'C': 2.7825594022071245, 'gamma': 0.21544346900318834, 'kernel': 'rbf'}\n",
      "cv: 0.6620085018877728\n"
     ]
    }
   ],
   "source": [
    "gs.fit(X_train,y_train)\n",
    "\n",
    "print('train:',gs.score(X_train,y_train))\n",
    "\n",
    "print('test:',gs.score(X_test,y_test))\n",
    "\n",
    "print('params:',gs.best_params_)\n",
    "\n",
    "print('cv:',gs.best_score_)"
   ]
  },
  {
   "cell_type": "markdown",
   "metadata": {},
   "source": [
    "## Model - Fine Segmentation"
   ]
  },
  {
   "cell_type": "markdown",
   "metadata": {},
   "source": [
    "#### Scale & split"
   ]
  },
  {
   "cell_type": "code",
   "execution_count": 74,
   "metadata": {},
   "outputs": [],
   "source": [
    "X=df_seg2[total_features]\n",
    "y=df_seg2.target_binary\n",
    "\n",
    "X_train, X_test, y_train, y_test = train_test_split(X, y, test_size=0.2, random_state = 1)\n",
    "\n",
    "scaler=StandardScaler()\n",
    "X_train=scaler.fit_transform(X_train)\n",
    "X_test=scaler.transform(X_test)"
   ]
  },
  {
   "cell_type": "markdown",
   "metadata": {},
   "source": [
    "#### Logistic Regression"
   ]
  },
  {
   "cell_type": "code",
   "execution_count": 75,
   "metadata": {},
   "outputs": [],
   "source": [
    "model=LogisticRegression(max_iter=100000)"
   ]
  },
  {
   "cell_type": "code",
   "execution_count": 76,
   "metadata": {},
   "outputs": [
    {
     "data": {
      "text/plain": [
       "LogisticRegression(max_iter=100000)"
      ]
     },
     "execution_count": 76,
     "metadata": {},
     "output_type": "execute_result"
    }
   ],
   "source": [
    "model.fit(X_train,y_train)"
   ]
  },
  {
   "cell_type": "code",
   "execution_count": 77,
   "metadata": {},
   "outputs": [
    {
     "name": "stdout",
     "output_type": "stream",
     "text": [
      "train: 0.5849615156897573\n",
      "test: 0.5621301775147929\n",
      "cv: 0.5707578347578348\n"
     ]
    }
   ],
   "source": [
    "print('train:',model.score(X_train,y_train))\n",
    "print('test:',model.score(X_test,y_test))\n",
    "print('cv:',cross_val_score(model,X_train,y_train,cv=5).mean())"
   ]
  },
  {
   "cell_type": "markdown",
   "metadata": {},
   "source": [
    "#### GridSearch"
   ]
  },
  {
   "cell_type": "code",
   "execution_count": 78,
   "metadata": {},
   "outputs": [],
   "source": [
    "param_grid={'C':np.logspace(-2,0,10),\n",
    "          'l1_ratio': [0.0001,0.1,0.5,0.7,0.9],\n",
    "            'penalty':['elasticnet'],\n",
    "            'solver':['saga']\n",
    "           }"
   ]
  },
  {
   "cell_type": "code",
   "execution_count": 79,
   "metadata": {},
   "outputs": [],
   "source": [
    "gs=GridSearchCV(model,\n",
    "               param_grid,\n",
    "               scoring='accuracy',\n",
    "               cv=5,\n",
    "               n_jobs=-2)"
   ]
  },
  {
   "cell_type": "code",
   "execution_count": 80,
   "metadata": {},
   "outputs": [
    {
     "name": "stdout",
     "output_type": "stream",
     "text": [
      "train: 0.581409117821196\n",
      "test: 0.565680473372781\n",
      "cv: 0.5719447731755424\n"
     ]
    }
   ],
   "source": [
    "gs.fit(X_train,y_train)\n",
    "print('train:',gs.score(X_train,y_train))\n",
    "print('test:',gs.score(X_test,y_test))\n",
    "print('cv:',gs.best_score_)"
   ]
  },
  {
   "cell_type": "code",
   "execution_count": 81,
   "metadata": {},
   "outputs": [
    {
     "data": {
      "text/plain": [
       "{'C': 0.0774263682681127,\n",
       " 'l1_ratio': 0.1,\n",
       " 'penalty': 'elasticnet',\n",
       " 'solver': 'saga'}"
      ]
     },
     "execution_count": 81,
     "metadata": {},
     "output_type": "execute_result"
    }
   ],
   "source": [
    "gs.best_params_"
   ]
  },
  {
   "cell_type": "markdown",
   "metadata": {},
   "source": [
    "#### Decision Tree"
   ]
  },
  {
   "cell_type": "code",
   "execution_count": 82,
   "metadata": {},
   "outputs": [],
   "source": [
    "from sklearn.tree import DecisionTreeClassifier"
   ]
  },
  {
   "cell_type": "code",
   "execution_count": 83,
   "metadata": {},
   "outputs": [
    {
     "data": {
      "text/plain": [
       "DecisionTreeClassifier()"
      ]
     },
     "execution_count": 83,
     "metadata": {},
     "output_type": "execute_result"
    }
   ],
   "source": [
    "d=DecisionTreeClassifier()\n",
    "d.fit(X_train,y_train)"
   ]
  },
  {
   "cell_type": "code",
   "execution_count": 84,
   "metadata": {},
   "outputs": [
    {
     "name": "stdout",
     "output_type": "stream",
     "text": [
      "train: 1.0\n",
      "test: 0.5431952662721894\n"
     ]
    }
   ],
   "source": [
    "print('train:',d.score(X_train,y_train))\n",
    "print('test:',d.score(X_test,y_test))"
   ]
  },
  {
   "cell_type": "code",
   "execution_count": 85,
   "metadata": {},
   "outputs": [
    {
     "data": {
      "text/plain": [
       "{'ccp_alpha': 0.0,\n",
       " 'class_weight': None,\n",
       " 'criterion': 'gini',\n",
       " 'max_depth': None,\n",
       " 'max_features': None,\n",
       " 'max_leaf_nodes': None,\n",
       " 'min_impurity_decrease': 0.0,\n",
       " 'min_impurity_split': None,\n",
       " 'min_samples_leaf': 1,\n",
       " 'min_samples_split': 2,\n",
       " 'min_weight_fraction_leaf': 0.0,\n",
       " 'random_state': None,\n",
       " 'splitter': 'best'}"
      ]
     },
     "execution_count": 85,
     "metadata": {},
     "output_type": "execute_result"
    }
   ],
   "source": [
    "d.get_params()"
   ]
  },
  {
   "cell_type": "markdown",
   "metadata": {},
   "source": [
    "##### Gridsearch"
   ]
  },
  {
   "cell_type": "code",
   "execution_count": 86,
   "metadata": {},
   "outputs": [],
   "source": [
    "param_grid={'max_depth':[8,9,10,11,12,13,14],\n",
    "            'max_leaf_nodes': [60,70,80,90,100],\n",
    "            'criterion': ['gini','entropy']}"
   ]
  },
  {
   "cell_type": "code",
   "execution_count": 87,
   "metadata": {},
   "outputs": [],
   "source": [
    "d=DecisionTreeClassifier()\n",
    "\n",
    "gs=GridSearchCV(d,\n",
    "               param_grid,\n",
    "               scoring='accuracy',\n",
    "               cv=5,\n",
    "               n_jobs=-2)"
   ]
  },
  {
   "cell_type": "code",
   "execution_count": 88,
   "metadata": {},
   "outputs": [
    {
     "name": "stdout",
     "output_type": "stream",
     "text": [
      "train: 0.7169923031379515\n",
      "test: 0.5609467455621302\n",
      "cv: 0.5565399956169188\n"
     ]
    }
   ],
   "source": [
    "gs.fit(X_train,y_train)\n",
    "print('train:',gs.score(X_train,y_train))\n",
    "print('test:',gs.score(X_test,y_test))\n",
    "print('cv:',gs.best_score_)"
   ]
  },
  {
   "cell_type": "code",
   "execution_count": 89,
   "metadata": {},
   "outputs": [
    {
     "data": {
      "text/plain": [
       "{'criterion': 'gini', 'max_depth': 11, 'max_leaf_nodes': 100}"
      ]
     },
     "execution_count": 89,
     "metadata": {},
     "output_type": "execute_result"
    }
   ],
   "source": [
    "gs.best_params_"
   ]
  },
  {
   "cell_type": "markdown",
   "metadata": {},
   "source": [
    "#### KNN"
   ]
  },
  {
   "cell_type": "code",
   "execution_count": 90,
   "metadata": {},
   "outputs": [
    {
     "name": "stdout",
     "output_type": "stream",
     "text": [
      "train: 1.0\n",
      "test: 0.6757396449704142\n",
      "params: {'metric': 'cosine', 'n_neighbors': 6, 'weights': 'distance'}\n",
      "cv: 0.6734788516326978\n"
     ]
    }
   ],
   "source": [
    "knn=KNeighborsClassifier()\n",
    "\n",
    "param_grid={'n_neighbors':[5,6,7,8,9,10],\n",
    "            'weights':['uniform', 'distance'],\n",
    "            'metric':['cosine'],\n",
    "           }\n",
    "\n",
    "gs=GridSearchCV(knn,\n",
    "               param_grid,\n",
    "               scoring='accuracy',\n",
    "               cv=5,\n",
    "               n_jobs=-2)\n",
    "\n",
    "gs.fit(X_train,y_train)\n",
    "\n",
    "print('train:',gs.score(X_train,y_train))\n",
    "print('test:',gs.score(X_test,y_test))\n",
    "print('params:',gs.best_params_)\n",
    "print('cv:',gs.best_score_)"
   ]
  },
  {
   "cell_type": "markdown",
   "metadata": {},
   "source": [
    "### SVM"
   ]
  },
  {
   "cell_type": "code",
   "execution_count": null,
   "metadata": {},
   "outputs": [],
   "source": []
  },
  {
   "cell_type": "code",
   "execution_count": 91,
   "metadata": {},
   "outputs": [],
   "source": [
    "svc=LinearSVC(max_iter=1000000)"
   ]
  },
  {
   "cell_type": "code",
   "execution_count": 92,
   "metadata": {},
   "outputs": [
    {
     "data": {
      "text/plain": [
       "{'C': 1.0,\n",
       " 'class_weight': None,\n",
       " 'dual': True,\n",
       " 'fit_intercept': True,\n",
       " 'intercept_scaling': 1,\n",
       " 'loss': 'squared_hinge',\n",
       " 'max_iter': 1000000,\n",
       " 'multi_class': 'ovr',\n",
       " 'penalty': 'l2',\n",
       " 'random_state': None,\n",
       " 'tol': 0.0001,\n",
       " 'verbose': 0}"
      ]
     },
     "execution_count": 92,
     "metadata": {},
     "output_type": "execute_result"
    }
   ],
   "source": [
    "svc.get_params()"
   ]
  },
  {
   "cell_type": "code",
   "execution_count": 93,
   "metadata": {},
   "outputs": [],
   "source": [
    "param_grid={'C':np.logspace(-2,4,10),\n",
    "           'loss':['hinge'],\n",
    "           }"
   ]
  },
  {
   "cell_type": "code",
   "execution_count": 94,
   "metadata": {},
   "outputs": [],
   "source": [
    "gs_lin = GridSearchCV(svc,\n",
    "                      param_grid,\n",
    "                      scoring='accuracy',\n",
    "                      cv=5\n",
    "                      )"
   ]
  },
  {
   "cell_type": "code",
   "execution_count": null,
   "metadata": {
    "scrolled": false
   },
   "outputs": [],
   "source": [
    "gs_lin.fit(X_train,y_train)\n",
    "\n",
    "print('train:',gs_lin.score(X_train,y_train))\n",
    "\n",
    "print('test:',gs_lin.score(X_test,y_test))\n",
    "\n",
    "print('params:',gs_lin.best_params_)\n",
    "\n",
    "print('cv:',gs_lin.best_score_)"
   ]
  },
  {
   "cell_type": "markdown",
   "metadata": {},
   "source": [
    "#### rbf "
   ]
  },
  {
   "cell_type": "code",
   "execution_count": 96,
   "metadata": {},
   "outputs": [],
   "source": [
    "svc=SVC(max_iter=100000)"
   ]
  },
  {
   "cell_type": "code",
   "execution_count": 100,
   "metadata": {},
   "outputs": [
    {
     "name": "stdout",
     "output_type": "stream",
     "text": [
      "train: 0.9857904085257548\n",
      "test: 0.6781065088757396\n",
      "params: {'C': 5.994842503189409, 'gamma': 0.16681005372000587, 'kernel': 'rbf'}\n",
      "cv: 0.6796901161516546\n"
     ]
    }
   ],
   "source": [
    "param_grid={'C':np.logspace(0,1,10),\n",
    "           'gamma':np.logspace(-1,0,10),\n",
    "            'kernel':['rbf']\n",
    "           }\n",
    "\n",
    "gs = GridSearchCV(svc,\n",
    "                  param_grid,\n",
    "                  scoring='accuracy',\n",
    "                  cv=5,\n",
    "                  n_jobs=-2\n",
    "                  )\n",
    "\n",
    "gs.fit(X_train,y_train)\n",
    "\n",
    "print('train:',gs.score(X_train,y_train))\n",
    "\n",
    "print('test:',gs.score(X_test,y_test))\n",
    "\n",
    "print('params:',gs.best_params_)\n",
    "\n",
    "print('cv:',gs.best_score_)"
   ]
  },
  {
   "cell_type": "code",
   "execution_count": 101,
   "metadata": {},
   "outputs": [
    {
     "data": {
      "text/html": [
       "<div>\n",
       "<style scoped>\n",
       "    .dataframe tbody tr th:only-of-type {\n",
       "        vertical-align: middle;\n",
       "    }\n",
       "\n",
       "    .dataframe tbody tr th {\n",
       "        vertical-align: top;\n",
       "    }\n",
       "\n",
       "    .dataframe thead th {\n",
       "        text-align: right;\n",
       "    }\n",
       "</style>\n",
       "<table border=\"1\" class=\"dataframe\">\n",
       "  <thead>\n",
       "    <tr style=\"text-align: right;\">\n",
       "      <th>Predicted</th>\n",
       "      <th>0</th>\n",
       "      <th>1</th>\n",
       "      <th>All</th>\n",
       "    </tr>\n",
       "    <tr>\n",
       "      <th>Actual</th>\n",
       "      <th></th>\n",
       "      <th></th>\n",
       "      <th></th>\n",
       "    </tr>\n",
       "  </thead>\n",
       "  <tbody>\n",
       "    <tr>\n",
       "      <th>0</th>\n",
       "      <td>289</td>\n",
       "      <td>141</td>\n",
       "      <td>430</td>\n",
       "    </tr>\n",
       "    <tr>\n",
       "      <th>1</th>\n",
       "      <td>131</td>\n",
       "      <td>284</td>\n",
       "      <td>415</td>\n",
       "    </tr>\n",
       "    <tr>\n",
       "      <th>All</th>\n",
       "      <td>420</td>\n",
       "      <td>425</td>\n",
       "      <td>845</td>\n",
       "    </tr>\n",
       "  </tbody>\n",
       "</table>\n",
       "</div>"
      ],
      "text/plain": [
       "Predicted    0    1  All\n",
       "Actual                  \n",
       "0          289  141  430\n",
       "1          131  284  415\n",
       "All        420  425  845"
      ]
     },
     "execution_count": 101,
     "metadata": {},
     "output_type": "execute_result"
    }
   ],
   "source": [
    "df_confusion = pd.crosstab(y_test, gs.predict(X_test), rownames=['Actual'], colnames=['Predicted'], margins=True)\n",
    "df_confusion"
   ]
  },
  {
   "cell_type": "code",
   "execution_count": 102,
   "metadata": {
    "scrolled": true
   },
   "outputs": [
    {
     "name": "stdout",
     "output_type": "stream",
     "text": [
      "              precision    recall  f1-score   support\n",
      "\n",
      "           0       0.69      0.67      0.68       430\n",
      "           1       0.67      0.68      0.68       415\n",
      "\n",
      "    accuracy                           0.68       845\n",
      "   macro avg       0.68      0.68      0.68       845\n",
      "weighted avg       0.68      0.68      0.68       845\n",
      "\n"
     ]
    }
   ],
   "source": [
    "print(classification_report(y_test, gs.predict(X_test)))"
   ]
  },
  {
   "cell_type": "markdown",
   "metadata": {},
   "source": [
    "### poly"
   ]
  },
  {
   "cell_type": "code",
   "execution_count": 103,
   "metadata": {},
   "outputs": [],
   "source": [
    "svc=SVC(max_iter=100000,kernel='poly')"
   ]
  },
  {
   "cell_type": "code",
   "execution_count": 104,
   "metadata": {},
   "outputs": [
    {
     "data": {
      "text/plain": [
       "{'C': 1.0,\n",
       " 'break_ties': False,\n",
       " 'cache_size': 200,\n",
       " 'class_weight': None,\n",
       " 'coef0': 0.0,\n",
       " 'decision_function_shape': 'ovr',\n",
       " 'degree': 3,\n",
       " 'gamma': 'scale',\n",
       " 'kernel': 'poly',\n",
       " 'max_iter': 100000,\n",
       " 'probability': False,\n",
       " 'random_state': None,\n",
       " 'shrinking': True,\n",
       " 'tol': 0.001,\n",
       " 'verbose': False}"
      ]
     },
     "execution_count": 104,
     "metadata": {},
     "output_type": "execute_result"
    }
   ],
   "source": [
    "svc.get_params()"
   ]
  },
  {
   "cell_type": "code",
   "execution_count": 105,
   "metadata": {},
   "outputs": [],
   "source": [
    "param_grid = {'C': np.logspace(-1, 2, 5),\n",
    "              'gamma': np.logspace(-3, 1, 5),\n",
    "              'degree': [1, 2, 3,4,5]\n",
    "              }"
   ]
  },
  {
   "cell_type": "code",
   "execution_count": 106,
   "metadata": {},
   "outputs": [],
   "source": [
    "gs = GridSearchCV(svc,\n",
    "                  param_grid,\n",
    "                  scoring='accuracy',\n",
    "                  cv=5,\n",
    "                  n_jobs=-2\n",
    "                  )"
   ]
  },
  {
   "cell_type": "code",
   "execution_count": 107,
   "metadata": {},
   "outputs": [
    {
     "name": "stdout",
     "output_type": "stream",
     "text": [
      "train: 0.9357608052101836\n",
      "test: 0.6366863905325444\n",
      "params: {'C': 0.5623413251903491, 'degree': 5, 'gamma': 0.1}\n",
      "cv: 0.6343957922419461\n"
     ]
    }
   ],
   "source": [
    "gs.fit(X_train,y_train)\n",
    "\n",
    "print('train:',gs.score(X_train,y_train))\n",
    "\n",
    "print('test:',gs.score(X_test,y_test))\n",
    "\n",
    "print('params:',gs.best_params_)\n",
    "\n",
    "print('cv:',gs.best_score_)"
   ]
  },
  {
   "cell_type": "code",
   "execution_count": 108,
   "metadata": {},
   "outputs": [
    {
     "data": {
      "text/html": [
       "<div>\n",
       "<style scoped>\n",
       "    .dataframe tbody tr th:only-of-type {\n",
       "        vertical-align: middle;\n",
       "    }\n",
       "\n",
       "    .dataframe tbody tr th {\n",
       "        vertical-align: top;\n",
       "    }\n",
       "\n",
       "    .dataframe thead th {\n",
       "        text-align: right;\n",
       "    }\n",
       "</style>\n",
       "<table border=\"1\" class=\"dataframe\">\n",
       "  <thead>\n",
       "    <tr style=\"text-align: right;\">\n",
       "      <th>Predicted</th>\n",
       "      <th>0</th>\n",
       "      <th>1</th>\n",
       "      <th>All</th>\n",
       "    </tr>\n",
       "    <tr>\n",
       "      <th>Actual</th>\n",
       "      <th></th>\n",
       "      <th></th>\n",
       "      <th></th>\n",
       "    </tr>\n",
       "  </thead>\n",
       "  <tbody>\n",
       "    <tr>\n",
       "      <th>0</th>\n",
       "      <td>269</td>\n",
       "      <td>161</td>\n",
       "      <td>430</td>\n",
       "    </tr>\n",
       "    <tr>\n",
       "      <th>1</th>\n",
       "      <td>146</td>\n",
       "      <td>269</td>\n",
       "      <td>415</td>\n",
       "    </tr>\n",
       "    <tr>\n",
       "      <th>All</th>\n",
       "      <td>415</td>\n",
       "      <td>430</td>\n",
       "      <td>845</td>\n",
       "    </tr>\n",
       "  </tbody>\n",
       "</table>\n",
       "</div>"
      ],
      "text/plain": [
       "Predicted    0    1  All\n",
       "Actual                  \n",
       "0          269  161  430\n",
       "1          146  269  415\n",
       "All        415  430  845"
      ]
     },
     "execution_count": 108,
     "metadata": {},
     "output_type": "execute_result"
    }
   ],
   "source": [
    "df_confusion = pd.crosstab(y_test, gs.predict(X_test), rownames=['Actual'], colnames=['Predicted'], margins=True)\n",
    "df_confusion"
   ]
  },
  {
   "cell_type": "code",
   "execution_count": 109,
   "metadata": {
    "scrolled": false
   },
   "outputs": [
    {
     "name": "stdout",
     "output_type": "stream",
     "text": [
      "              precision    recall  f1-score   support\n",
      "\n",
      "           0       0.65      0.63      0.64       430\n",
      "           1       0.63      0.65      0.64       415\n",
      "\n",
      "    accuracy                           0.64       845\n",
      "   macro avg       0.64      0.64      0.64       845\n",
      "weighted avg       0.64      0.64      0.64       845\n",
      "\n"
     ]
    }
   ],
   "source": [
    "print(classification_report(y_test, gs.predict(X_test)))"
   ]
  },
  {
   "cell_type": "markdown",
   "metadata": {},
   "source": [
    "## Find optimum Level of MFCCs"
   ]
  },
  {
   "cell_type": "code",
   "execution_count": 110,
   "metadata": {},
   "outputs": [],
   "source": [
    "df_seg2_40mfcc=pd.read_csv('df_seg2_40mfcc.csv')\n",
    "\n"
   ]
  },
  {
   "cell_type": "code",
   "execution_count": 124,
   "metadata": {},
   "outputs": [],
   "source": [
    "#KNN\n",
    "output_list=[]\n",
    "\n",
    "for n in range(10, 41):\n",
    "\n",
    "    # create n mfcc\n",
    "\n",
    "    mfcc_names = ['mfcc_'+str(x) for x in range(1, n+1)]\n",
    "    \n",
    "    # model\n",
    "    \n",
    "    X=df_seg2_40mfcc[spec_names+mfcc_names+['zcr','rms']]\n",
    "    y=df_seg2_40mfcc.target_binary\n",
    "\n",
    "    X_train, X_test, y_train, y_test = train_test_split(X, y, test_size=0.2, random_state = 1)\n",
    "\n",
    "    scaler=StandardScaler()\n",
    "\n",
    "    X_train=scaler.fit_transform(X_train)\n",
    "\n",
    "    X_test=scaler.transform(X_test)\n",
    "    \n",
    "    knn=KNeighborsClassifier()\n",
    "\n",
    "    param_grid={'n_neighbors':[5,6,7,8,9,10],\n",
    "                'weights':['uniform', 'distance'],\n",
    "                'metric':['cosine'],\n",
    "               }\n",
    "\n",
    "    gs=GridSearchCV(knn,\n",
    "                   param_grid,\n",
    "                   scoring='accuracy',\n",
    "                   cv=5,\n",
    "                   n_jobs=-2)\n",
    "\n",
    "  \n",
    "\n",
    "    gs.fit(X_train, y_train)\n",
    "\n",
    "    output = {'n_mfcc': n,\n",
    "              'train_score': gs.score(X_train, y_train),\n",
    "              'test_score': gs.score(X_test, y_test),\n",
    "              'best_params': gs.best_params_,\n",
    "              'cv:': gs.best_score_}\n",
    "    \n",
    "    output_list.append(output)\n",
    "    "
   ]
  },
  {
   "cell_type": "code",
   "execution_count": 125,
   "metadata": {},
   "outputs": [],
   "source": [
    "df_n_mfcc=pd.DataFrame(output_list)"
   ]
  },
  {
   "cell_type": "code",
   "execution_count": 126,
   "metadata": {},
   "outputs": [
    {
     "data": {
      "image/png": "[encoded data removed]",
      "text/plain": [
       "<Figure size 720x720 with 1 Axes>"
      ]
     },
     "metadata": {
      "needs_background": "light"
     },
     "output_type": "display_data"
    }
   ],
   "source": [
    "df_n_mfcc.plot(x='n_mfcc',y='cv:',kind='bar',figsize=(10,10))\n",
    "plt.ylim(0.6)\n",
    "plt.show()"
   ]
  },
  {
   "cell_type": "code",
   "execution_count": 131,
   "metadata": {},
   "outputs": [
    {
     "data": {
      "text/html": [
       "<div>\n",
       "<style scoped>\n",
       "    .dataframe tbody tr th:only-of-type {\n",
       "        vertical-align: middle;\n",
       "    }\n",
       "\n",
       "    .dataframe tbody tr th {\n",
       "        vertical-align: top;\n",
       "    }\n",
       "\n",
       "    .dataframe thead th {\n",
       "        text-align: right;\n",
       "    }\n",
       "</style>\n",
       "<table border=\"1\" class=\"dataframe\">\n",
       "  <thead>\n",
       "    <tr style=\"text-align: right;\">\n",
       "      <th></th>\n",
       "      <th>n_mfcc</th>\n",
       "      <th>train_score</th>\n",
       "      <th>test_score</th>\n",
       "      <th>best_params</th>\n",
       "      <th>cv:</th>\n",
       "    </tr>\n",
       "  </thead>\n",
       "  <tbody>\n",
       "    <tr>\n",
       "      <th>30</th>\n",
       "      <td>40</td>\n",
       "      <td>1.0</td>\n",
       "      <td>0.769231</td>\n",
       "      <td>{'metric': 'cosine', 'n_neighbors': 6, 'weight...</td>\n",
       "      <td>0.752514</td>\n",
       "    </tr>\n",
       "    <tr>\n",
       "      <th>19</th>\n",
       "      <td>29</td>\n",
       "      <td>1.0</td>\n",
       "      <td>0.756213</td>\n",
       "      <td>{'metric': 'cosine', 'n_neighbors': 6, 'weight...</td>\n",
       "      <td>0.751629</td>\n",
       "    </tr>\n",
       "    <tr>\n",
       "      <th>21</th>\n",
       "      <td>31</td>\n",
       "      <td>1.0</td>\n",
       "      <td>0.773964</td>\n",
       "      <td>{'metric': 'cosine', 'n_neighbors': 6, 'weight...</td>\n",
       "      <td>0.751038</td>\n",
       "    </tr>\n",
       "    <tr>\n",
       "      <th>18</th>\n",
       "      <td>28</td>\n",
       "      <td>1.0</td>\n",
       "      <td>0.762130</td>\n",
       "      <td>{'metric': 'cosine', 'n_neighbors': 6, 'weight...</td>\n",
       "      <td>0.749556</td>\n",
       "    </tr>\n",
       "    <tr>\n",
       "      <th>24</th>\n",
       "      <td>34</td>\n",
       "      <td>1.0</td>\n",
       "      <td>0.782249</td>\n",
       "      <td>{'metric': 'cosine', 'n_neighbors': 6, 'weight...</td>\n",
       "      <td>0.747780</td>\n",
       "    </tr>\n",
       "    <tr>\n",
       "      <th>20</th>\n",
       "      <td>30</td>\n",
       "      <td>1.0</td>\n",
       "      <td>0.753846</td>\n",
       "      <td>{'metric': 'cosine', 'n_neighbors': 6, 'weight...</td>\n",
       "      <td>0.747777</td>\n",
       "    </tr>\n",
       "    <tr>\n",
       "      <th>28</th>\n",
       "      <td>38</td>\n",
       "      <td>1.0</td>\n",
       "      <td>0.775148</td>\n",
       "      <td>{'metric': 'cosine', 'n_neighbors': 6, 'weight...</td>\n",
       "      <td>0.747777</td>\n",
       "    </tr>\n",
       "    <tr>\n",
       "      <th>25</th>\n",
       "      <td>35</td>\n",
       "      <td>1.0</td>\n",
       "      <td>0.775148</td>\n",
       "      <td>{'metric': 'cosine', 'n_neighbors': 6, 'weight...</td>\n",
       "      <td>0.747192</td>\n",
       "    </tr>\n",
       "    <tr>\n",
       "      <th>29</th>\n",
       "      <td>39</td>\n",
       "      <td>1.0</td>\n",
       "      <td>0.776331</td>\n",
       "      <td>{'metric': 'cosine', 'n_neighbors': 6, 'weight...</td>\n",
       "      <td>0.747189</td>\n",
       "    </tr>\n",
       "    <tr>\n",
       "      <th>22</th>\n",
       "      <td>32</td>\n",
       "      <td>1.0</td>\n",
       "      <td>0.768047</td>\n",
       "      <td>{'metric': 'cosine', 'n_neighbors': 6, 'weight...</td>\n",
       "      <td>0.746888</td>\n",
       "    </tr>\n",
       "    <tr>\n",
       "      <th>16</th>\n",
       "      <td>26</td>\n",
       "      <td>1.0</td>\n",
       "      <td>0.750296</td>\n",
       "      <td>{'metric': 'cosine', 'n_neighbors': 6, 'weight...</td>\n",
       "      <td>0.746007</td>\n",
       "    </tr>\n",
       "    <tr>\n",
       "      <th>27</th>\n",
       "      <td>37</td>\n",
       "      <td>1.0</td>\n",
       "      <td>0.771598</td>\n",
       "      <td>{'metric': 'cosine', 'n_neighbors': 6, 'weight...</td>\n",
       "      <td>0.745413</td>\n",
       "    </tr>\n",
       "    <tr>\n",
       "      <th>26</th>\n",
       "      <td>36</td>\n",
       "      <td>1.0</td>\n",
       "      <td>0.771598</td>\n",
       "      <td>{'metric': 'cosine', 'n_neighbors': 6, 'weight...</td>\n",
       "      <td>0.745411</td>\n",
       "    </tr>\n",
       "    <tr>\n",
       "      <th>17</th>\n",
       "      <td>27</td>\n",
       "      <td>1.0</td>\n",
       "      <td>0.749112</td>\n",
       "      <td>{'metric': 'cosine', 'n_neighbors': 6, 'weight...</td>\n",
       "      <td>0.744224</td>\n",
       "    </tr>\n",
       "    <tr>\n",
       "      <th>23</th>\n",
       "      <td>33</td>\n",
       "      <td>1.0</td>\n",
       "      <td>0.789349</td>\n",
       "      <td>{'metric': 'cosine', 'n_neighbors': 6, 'weight...</td>\n",
       "      <td>0.739787</td>\n",
       "    </tr>\n",
       "    <tr>\n",
       "      <th>15</th>\n",
       "      <td>25</td>\n",
       "      <td>1.0</td>\n",
       "      <td>0.749112</td>\n",
       "      <td>{'metric': 'cosine', 'n_neighbors': 6, 'weight...</td>\n",
       "      <td>0.738013</td>\n",
       "    </tr>\n",
       "    <tr>\n",
       "      <th>14</th>\n",
       "      <td>24</td>\n",
       "      <td>1.0</td>\n",
       "      <td>0.755030</td>\n",
       "      <td>{'metric': 'cosine', 'n_neighbors': 6, 'weight...</td>\n",
       "      <td>0.736529</td>\n",
       "    </tr>\n",
       "    <tr>\n",
       "      <th>12</th>\n",
       "      <td>22</td>\n",
       "      <td>1.0</td>\n",
       "      <td>0.746746</td>\n",
       "      <td>{'metric': 'cosine', 'n_neighbors': 6, 'weight...</td>\n",
       "      <td>0.734454</td>\n",
       "    </tr>\n",
       "    <tr>\n",
       "      <th>13</th>\n",
       "      <td>23</td>\n",
       "      <td>1.0</td>\n",
       "      <td>0.750296</td>\n",
       "      <td>{'metric': 'cosine', 'n_neighbors': 6, 'weight...</td>\n",
       "      <td>0.731195</td>\n",
       "    </tr>\n",
       "    <tr>\n",
       "      <th>11</th>\n",
       "      <td>21</td>\n",
       "      <td>1.0</td>\n",
       "      <td>0.731361</td>\n",
       "      <td>{'metric': 'cosine', 'n_neighbors': 6, 'weight...</td>\n",
       "      <td>0.730015</td>\n",
       "    </tr>\n",
       "    <tr>\n",
       "      <th>10</th>\n",
       "      <td>20</td>\n",
       "      <td>1.0</td>\n",
       "      <td>0.731361</td>\n",
       "      <td>{'metric': 'cosine', 'n_neighbors': 6, 'weight...</td>\n",
       "      <td>0.728532</td>\n",
       "    </tr>\n",
       "    <tr>\n",
       "      <th>9</th>\n",
       "      <td>19</td>\n",
       "      <td>1.0</td>\n",
       "      <td>0.730178</td>\n",
       "      <td>{'metric': 'cosine', 'n_neighbors': 6, 'weight...</td>\n",
       "      <td>0.720245</td>\n",
       "    </tr>\n",
       "    <tr>\n",
       "      <th>8</th>\n",
       "      <td>18</td>\n",
       "      <td>1.0</td>\n",
       "      <td>0.714793</td>\n",
       "      <td>{'metric': 'cosine', 'n_neighbors': 6, 'weight...</td>\n",
       "      <td>0.703966</td>\n",
       "    </tr>\n",
       "    <tr>\n",
       "      <th>7</th>\n",
       "      <td>17</td>\n",
       "      <td>1.0</td>\n",
       "      <td>0.710059</td>\n",
       "      <td>{'metric': 'cosine', 'n_neighbors': 6, 'weight...</td>\n",
       "      <td>0.702188</td>\n",
       "    </tr>\n",
       "    <tr>\n",
       "      <th>6</th>\n",
       "      <td>16</td>\n",
       "      <td>1.0</td>\n",
       "      <td>0.689941</td>\n",
       "      <td>{'metric': 'cosine', 'n_neighbors': 5, 'weight...</td>\n",
       "      <td>0.697451</td>\n",
       "    </tr>\n",
       "    <tr>\n",
       "      <th>5</th>\n",
       "      <td>15</td>\n",
       "      <td>1.0</td>\n",
       "      <td>0.699408</td>\n",
       "      <td>{'metric': 'cosine', 'n_neighbors': 6, 'weight...</td>\n",
       "      <td>0.690647</td>\n",
       "    </tr>\n",
       "    <tr>\n",
       "      <th>4</th>\n",
       "      <td>14</td>\n",
       "      <td>1.0</td>\n",
       "      <td>0.674556</td>\n",
       "      <td>{'metric': 'cosine', 'n_neighbors': 6, 'weight...</td>\n",
       "      <td>0.679989</td>\n",
       "    </tr>\n",
       "    <tr>\n",
       "      <th>3</th>\n",
       "      <td>13</td>\n",
       "      <td>1.0</td>\n",
       "      <td>0.675740</td>\n",
       "      <td>{'metric': 'cosine', 'n_neighbors': 6, 'weight...</td>\n",
       "      <td>0.673479</td>\n",
       "    </tr>\n",
       "    <tr>\n",
       "      <th>2</th>\n",
       "      <td>12</td>\n",
       "      <td>1.0</td>\n",
       "      <td>0.659172</td>\n",
       "      <td>{'metric': 'cosine', 'n_neighbors': 5, 'weight...</td>\n",
       "      <td>0.657196</td>\n",
       "    </tr>\n",
       "    <tr>\n",
       "      <th>1</th>\n",
       "      <td>11</td>\n",
       "      <td>1.0</td>\n",
       "      <td>0.636686</td>\n",
       "      <td>{'metric': 'cosine', 'n_neighbors': 6, 'weight...</td>\n",
       "      <td>0.644169</td>\n",
       "    </tr>\n",
       "    <tr>\n",
       "      <th>0</th>\n",
       "      <td>10</td>\n",
       "      <td>1.0</td>\n",
       "      <td>0.637870</td>\n",
       "      <td>{'metric': 'cosine', 'n_neighbors': 6, 'weight...</td>\n",
       "      <td>0.632621</td>\n",
       "    </tr>\n",
       "  </tbody>\n",
       "</table>\n",
       "</div>"
      ],
      "text/plain": [
       "    n_mfcc  train_score  test_score  \\\n",
       "30      40          1.0    0.769231   \n",
       "19      29          1.0    0.756213   \n",
       "21      31          1.0    0.773964   \n",
       "18      28          1.0    0.762130   \n",
       "24      34          1.0    0.782249   \n",
       "20      30          1.0    0.753846   \n",
       "28      38          1.0    0.775148   \n",
       "25      35          1.0    0.775148   \n",
       "29      39          1.0    0.776331   \n",
       "22      32          1.0    0.768047   \n",
       "16      26          1.0    0.750296   \n",
       "27      37          1.0    0.771598   \n",
       "26      36          1.0    0.771598   \n",
       "17      27          1.0    0.749112   \n",
       "23      33          1.0    0.789349   \n",
       "15      25          1.0    0.749112   \n",
       "14      24          1.0    0.755030   \n",
       "12      22          1.0    0.746746   \n",
       "13      23          1.0    0.750296   \n",
       "11      21          1.0    0.731361   \n",
       "10      20          1.0    0.731361   \n",
       "9       19          1.0    0.730178   \n",
       "8       18          1.0    0.714793   \n",
       "7       17          1.0    0.710059   \n",
       "6       16          1.0    0.689941   \n",
       "5       15          1.0    0.699408   \n",
       "4       14          1.0    0.674556   \n",
       "3       13          1.0    0.675740   \n",
       "2       12          1.0    0.659172   \n",
       "1       11          1.0    0.636686   \n",
       "0       10          1.0    0.637870   \n",
       "\n",
       "                                          best_params       cv:  \n",
       "30  {'metric': 'cosine', 'n_neighbors': 6, 'weight...  0.752514  \n",
       "19  {'metric': 'cosine', 'n_neighbors': 6, 'weight...  0.751629  \n",
       "21  {'metric': 'cosine', 'n_neighbors': 6, 'weight...  0.751038  \n",
       "18  {'metric': 'cosine', 'n_neighbors': 6, 'weight...  0.749556  \n",
       "24  {'metric': 'cosine', 'n_neighbors': 6, 'weight...  0.747780  \n",
       "20  {'metric': 'cosine', 'n_neighbors': 6, 'weight...  0.747777  \n",
       "28  {'metric': 'cosine', 'n_neighbors': 6, 'weight...  0.747777  \n",
       "25  {'metric': 'cosine', 'n_neighbors': 6, 'weight...  0.747192  \n",
       "29  {'metric': 'cosine', 'n_neighbors': 6, 'weight...  0.747189  \n",
       "22  {'metric': 'cosine', 'n_neighbors': 6, 'weight...  0.746888  \n",
       "16  {'metric': 'cosine', 'n_neighbors': 6, 'weight...  0.746007  \n",
       "27  {'metric': 'cosine', 'n_neighbors': 6, 'weight...  0.745413  \n",
       "26  {'metric': 'cosine', 'n_neighbors': 6, 'weight...  0.745411  \n",
       "17  {'metric': 'cosine', 'n_neighbors': 6, 'weight...  0.744224  \n",
       "23  {'metric': 'cosine', 'n_neighbors': 6, 'weight...  0.739787  \n",
       "15  {'metric': 'cosine', 'n_neighbors': 6, 'weight...  0.738013  \n",
       "14  {'metric': 'cosine', 'n_neighbors': 6, 'weight...  0.736529  \n",
       "12  {'metric': 'cosine', 'n_neighbors': 6, 'weight...  0.734454  \n",
       "13  {'metric': 'cosine', 'n_neighbors': 6, 'weight...  0.731195  \n",
       "11  {'metric': 'cosine', 'n_neighbors': 6, 'weight...  0.730015  \n",
       "10  {'metric': 'cosine', 'n_neighbors': 6, 'weight...  0.728532  \n",
       "9   {'metric': 'cosine', 'n_neighbors': 6, 'weight...  0.720245  \n",
       "8   {'metric': 'cosine', 'n_neighbors': 6, 'weight...  0.703966  \n",
       "7   {'metric': 'cosine', 'n_neighbors': 6, 'weight...  0.702188  \n",
       "6   {'metric': 'cosine', 'n_neighbors': 5, 'weight...  0.697451  \n",
       "5   {'metric': 'cosine', 'n_neighbors': 6, 'weight...  0.690647  \n",
       "4   {'metric': 'cosine', 'n_neighbors': 6, 'weight...  0.679989  \n",
       "3   {'metric': 'cosine', 'n_neighbors': 6, 'weight...  0.673479  \n",
       "2   {'metric': 'cosine', 'n_neighbors': 5, 'weight...  0.657196  \n",
       "1   {'metric': 'cosine', 'n_neighbors': 6, 'weight...  0.644169  \n",
       "0   {'metric': 'cosine', 'n_neighbors': 6, 'weight...  0.632621  "
      ]
     },
     "execution_count": 131,
     "metadata": {},
     "output_type": "execute_result"
    }
   ],
   "source": [
    "df_n_mfcc.sort_values('cv:',ascending=False)"
   ]
  },
  {
   "cell_type": "markdown",
   "metadata": {},
   "source": [
    "### Remodel with 40 MFCC"
   ]
  },
  {
   "cell_type": "code",
   "execution_count": 143,
   "metadata": {},
   "outputs": [],
   "source": [
    "total_features_2=total_features+['mfcc_'+str(x) for x in range(14, 41)]"
   ]
  },
  {
   "cell_type": "code",
   "execution_count": 144,
   "metadata": {},
   "outputs": [],
   "source": [
    "X=df_seg2_40mfcc[total_features_2]\n",
    "y=df_seg2_40mfcc.target_binary\n",
    "\n",
    "X_train, X_test, y_train, y_test = train_test_split(X, y, test_size=0.2, random_state = 1)\n",
    "\n",
    "scaler=StandardScaler()\n",
    "X_train=scaler.fit_transform(X_train)\n",
    "X_test=scaler.transform(X_test)\n",
    "\n"
   ]
  },
  {
   "cell_type": "markdown",
   "metadata": {},
   "source": [
    "### SVM Poly"
   ]
  },
  {
   "cell_type": "code",
   "execution_count": null,
   "metadata": {},
   "outputs": [],
   "source": [
    "svc=SVC(max_iter=100000,kernel='poly')\n",
    "\n",
    "param_grid = {'C': np.logspace(-1, 3, 10),\n",
    "              'gamma': np.logspace(-3, 1, 10),\n",
    "              'degree': [3,4,5,6]\n",
    "              }\n",
    "\n",
    "gs = GridSearchCV(svc,\n",
    "                  param_grid,\n",
    "                  scoring='accuracy',\n",
    "                  cv=5,\n",
    "                  n_jobs=-2\n",
    "                  )\n",
    "\n",
    "gs.fit(X_train,y_train)\n",
    "\n",
    "print('train:',gs.score(X_train,y_train))\n",
    "print('test:',gs.score(X_test,y_test))\n",
    "print('params:',gs.best_params_)\n",
    "print('cv:',gs.best_score_)"
   ]
  },
  {
   "cell_type": "markdown",
   "metadata": {},
   "source": [
    "### KNN"
   ]
  },
  {
   "cell_type": "code",
   "execution_count": 136,
   "metadata": {},
   "outputs": [
    {
     "name": "stdout",
     "output_type": "stream",
     "text": [
      "train: 1.0\n",
      "test: 0.7692307692307693\n",
      "params: {'metric': 'cosine', 'n_neighbors': 6, 'weights': 'distance'}\n",
      "cv: 0.7525141354372122\n"
     ]
    }
   ],
   "source": [
    "knn=KNeighborsClassifier()\n",
    "\n",
    "param_grid={'n_neighbors':[5,6,7,8,9,10],\n",
    "            'weights':['uniform', 'distance'],\n",
    "            'metric':['cosine'],\n",
    "           }\n",
    "\n",
    "gs=GridSearchCV(knn,\n",
    "               param_grid,\n",
    "               scoring='accuracy',\n",
    "               cv=5,\n",
    "               n_jobs=-2)\n",
    "\n",
    "gs.fit(X_train,y_train)\n",
    "\n",
    "print('train:',gs.score(X_train,y_train))\n",
    "print('test:',gs.score(X_test,y_test))\n",
    "print('params:',gs.best_params_)\n",
    "print('cv:',gs.best_score_)"
   ]
  },
  {
   "cell_type": "markdown",
   "metadata": {},
   "source": [
    "### Logisitic Regression"
   ]
  },
  {
   "cell_type": "code",
   "execution_count": 145,
   "metadata": {},
   "outputs": [
    {
     "name": "stdout",
     "output_type": "stream",
     "text": [
      "train: 0.5899940793368857\n",
      "test: 0.6071005917159763\n",
      "cv: 0.5689765505150121\n"
     ]
    }
   ],
   "source": [
    "model=LogisticRegression(max_iter=100000)\n",
    "param_grid={'C':np.logspace(-2,0,10),\n",
    "          'l1_ratio': [0.0001,0.1,0.5,0.7,0.9],\n",
    "            'penalty':['elasticnet'],\n",
    "            'solver':['saga']\n",
    "           }\n",
    "\n",
    "gs=GridSearchCV(model,\n",
    "               param_grid,\n",
    "               scoring='accuracy',\n",
    "               cv=5,\n",
    "               n_jobs=-2)\n",
    "\n",
    "gs.fit(X_train,y_train)\n",
    "print('train:',gs.score(X_train,y_train))\n",
    "print('test:',gs.score(X_test,y_test))\n",
    "print('cv:',gs.best_score_)\n"
   ]
  },
  {
   "cell_type": "code",
   "execution_count": 148,
   "metadata": {},
   "outputs": [
    {
     "data": {
      "image/png": "[encoded data removed]",
      "text/plain": [
       "<Figure size 432x432 with 1 Axes>"
      ]
     },
     "metadata": {
      "needs_background": "light"
     },
     "output_type": "display_data"
    }
   ],
   "source": [
    "#Plotting ROC Curve\n",
    "\n",
    "fig, ax = plt.subplots(figsize=(6, 6))\n",
    "plot_roc_curve(gs.best_estimator_, X_test, y_test, ax=ax)\n",
    "ax.plot([0, 1], [0, 1], 'k--', linewidth=4)\n",
    "ax.set_title('ROC Curve')\n",
    "plt.show()"
   ]
  },
  {
   "cell_type": "markdown",
   "metadata": {},
   "source": [
    "### Decision Tree"
   ]
  },
  {
   "cell_type": "code",
   "execution_count": 127,
   "metadata": {},
   "outputs": [
    {
     "name": "stdout",
     "output_type": "stream",
     "text": [
      "train: 0.668651200985424\n",
      "test: 0.5591133004926109\n",
      "cv: 0.5662056547148949\n",
      "params: {'criterion': 'gini', 'max_depth': 15, 'max_leaf_nodes': 50}\n"
     ]
    }
   ],
   "source": [
    "d=DecisionTreeClassifier()\n",
    "\n",
    "\n",
    "param_grid={'max_depth':[14,15,16],\n",
    "            'max_leaf_nodes': [10,15,20,30,40,50,60,70,80],\n",
    "            'criterion': ['gini','entropy']}\n",
    "\n",
    "gs=GridSearchCV(d,\n",
    "               param_grid,\n",
    "               scoring='accuracy',\n",
    "               cv=5,\n",
    "               n_jobs=-2)\n",
    "\n",
    "gs.fit(X_train,y_train)\n",
    "print('train:',gs.score(X_train,y_train))\n",
    "print('test:',gs.score(X_test,y_test))\n",
    "print('cv:',gs.best_score_)\n",
    "\n",
    "print('params:',gs.best_params_)"
   ]
  },
  {
   "cell_type": "markdown",
   "metadata": {},
   "source": [
    "### Random Forest"
   ]
  },
  {
   "cell_type": "code",
   "execution_count": 34,
   "metadata": {},
   "outputs": [],
   "source": [
    "from sklearn.ensemble import RandomForestClassifier"
   ]
  },
  {
   "cell_type": "code",
   "execution_count": 41,
   "metadata": {},
   "outputs": [],
   "source": [
    "rf= RandomForestClassifier(n_estimators=100)"
   ]
  },
  {
   "cell_type": "code",
   "execution_count": 55,
   "metadata": {},
   "outputs": [
    {
     "name": "stdout",
     "output_type": "stream",
     "text": [
      "train: 1.0\n",
      "test: 0.7093596059113301\n",
      "cv: 0.681377560153741\n",
      "params: {}\n"
     ]
    }
   ],
   "source": [
    "param_grid={}\n",
    "\n",
    "gs=GridSearchCV(rf,\n",
    "               param_grid,\n",
    "               scoring='accuracy',\n",
    "               cv=5,\n",
    "               n_jobs=-2)\n",
    "\n",
    "gs.fit(X_train,y_train)\n",
    "print('train:',gs.score(X_train,y_train))\n",
    "print('test:',gs.score(X_test,y_test))\n",
    "print('cv:',gs.best_score_)\n",
    "\n",
    "print('params:',gs.best_params_)"
   ]
  },
  {
   "cell_type": "markdown",
   "metadata": {},
   "source": [
    "### SVM"
   ]
  },
  {
   "cell_type": "code",
   "execution_count": 137,
   "metadata": {},
   "outputs": [
    {
     "name": "stdout",
     "output_type": "stream",
     "text": [
      "Fitting 5 folds for each of 25 candidates, totalling 125 fits\n",
      "train: 1.0\n",
      "test: 0.7715976331360946\n",
      "cv: 0.729121630506246\n",
      "params: {'C': 10.0, 'gamma': 0.1, 'kernel': 'rbf'}\n"
     ]
    }
   ],
   "source": [
    "svc = SVC(max_iter=100000)\n",
    "\n",
    "param_grid = {'C': np.logspace(0, 2, 5),\n",
    "              'gamma': np.logspace(-3, 1, 5),\n",
    "              'kernel': ['rbf']\n",
    "              }\n",
    "\n",
    "gs = GridSearchCV(svc,\n",
    "                  param_grid,\n",
    "                  scoring='accuracy',\n",
    "                  cv=5,\n",
    "                  n_jobs=-2,\n",
    "                  verbose=1\n",
    "                  )\n",
    "\n",
    "gs.fit(X_train, y_train)\n",
    "\n",
    "print('train:',gs.score(X_train,y_train))\n",
    "print('test:',gs.score(X_test,y_test))\n",
    "print('cv:',gs.best_score_)\n",
    "\n",
    "print('params:',gs.best_params_)"
   ]
  },
  {
   "cell_type": "markdown",
   "metadata": {},
   "source": [
    "## Bagging"
   ]
  },
  {
   "cell_type": "code",
   "execution_count": 138,
   "metadata": {},
   "outputs": [],
   "source": [
    "from sklearn.ensemble import AdaBoostClassifier, AdaBoostRegressor, GradientBoostingClassifier, GradientBoostingRegressor\n",
    "from sklearn.ensemble import BaggingClassifier"
   ]
  },
  {
   "cell_type": "code",
   "execution_count": 139,
   "metadata": {},
   "outputs": [],
   "source": [
    "X=df_seg2_40mfcc[total_features_2]\n",
    "y=df_seg2_40mfcc.target_binary\n",
    "\n",
    "X_train, X_test, y_train, y_test = train_test_split(X, y, test_size=0.2, random_state = 10)\n",
    "\n",
    "scaler=StandardScaler()\n",
    "X_train=scaler.fit_transform(X_train)\n",
    "X_test=scaler.transform(X_test)"
   ]
  },
  {
   "cell_type": "markdown",
   "metadata": {},
   "source": [
    "#### Bag KNN"
   ]
  },
  {
   "cell_type": "code",
   "execution_count": 140,
   "metadata": {},
   "outputs": [
    {
     "name": "stdout",
     "output_type": "stream",
     "text": [
      "train: 1.0\n",
      "test: 0.7727810650887574\n",
      "params: {'metric': 'cosine', 'n_neighbors': 6, 'weights': 'distance'}\n",
      "cv: 0.7554770984001753\n"
     ]
    }
   ],
   "source": [
    "knn=KNeighborsClassifier()\n",
    "\n",
    "param_grid={'n_neighbors':[5,6,7],\n",
    "            'weights':['uniform', 'distance'],\n",
    "            'metric':['cosine'],\n",
    "           }\n",
    "\n",
    "gs=GridSearchCV(knn,\n",
    "               param_grid,\n",
    "               scoring='accuracy',\n",
    "               cv=5,\n",
    "               n_jobs=-2)\n",
    "\n",
    "gs.fit(X_train,y_train)\n",
    "\n",
    "print('train:',gs.score(X_train,y_train))\n",
    "print('test:',gs.score(X_test,y_test))\n",
    "print('params:',gs.best_params_)\n",
    "print('cv:',gs.best_score_)"
   ]
  },
  {
   "cell_type": "code",
   "execution_count": 141,
   "metadata": {},
   "outputs": [],
   "source": [
    "knn=KNeighborsClassifier()\n",
    "\n",
    "BC = BaggingClassifier(base_estimator=knn)\n",
    "\n",
    "params_bag = {'base_estimator__n_neighbors': [2,3],\n",
    "              'n_estimators': [100],\n",
    "              'base_estimator__metric': ['cosine'],\n",
    "              'base_estimator__weights':['distance']\n",
    "              }\n",
    "\n",
    "# Fitting the Bag\n",
    "gs = GridSearchCV(BC,\n",
    "                      params_bag,\n",
    "                      n_jobs=-2,\n",
    "                      cv=5,\n",
    "                      verbose=1)"
   ]
  },
  {
   "cell_type": "code",
   "execution_count": 142,
   "metadata": {},
   "outputs": [
    {
     "name": "stdout",
     "output_type": "stream",
     "text": [
      "Fitting 5 folds for each of 2 candidates, totalling 10 fits\n",
      "train: 1.0\n",
      "test: 0.8047337278106509\n",
      "params: {'base_estimator__metric': 'cosine', 'base_estimator__n_neighbors': 2, 'base_estimator__weights': 'distance', 'n_estimators': 100}\n",
      "cv: 0.7838952443567828\n"
     ]
    }
   ],
   "source": [
    "gs.fit(X_train,y_train)\n",
    "print('train:',gs.score(X_train,y_train))\n",
    "print('test:',gs.score(X_test,y_test))\n",
    "print('params:',gs.best_params_)\n",
    "print('cv:',gs.best_score_)"
   ]
  },
  {
   "cell_type": "code",
   "execution_count": 69,
   "metadata": {},
   "outputs": [],
   "source": [
    "predictions=gs.predict(X_test)"
   ]
  },
  {
   "cell_type": "code",
   "execution_count": 71,
   "metadata": {
    "scrolled": true
   },
   "outputs": [
    {
     "name": "stdout",
     "output_type": "stream",
     "text": [
      "              precision    recall  f1-score   support\n",
      "\n",
      "           0       0.86      0.88      0.87       640\n",
      "           1       0.86      0.84      0.85       578\n",
      "\n",
      "    accuracy                           0.86      1218\n",
      "   macro avg       0.86      0.86      0.86      1218\n",
      "weighted avg       0.86      0.86      0.86      1218\n",
      "\n"
     ]
    }
   ],
   "source": [
    "print(classification_report(y_test,predictions))"
   ]
  },
  {
   "cell_type": "code",
   "execution_count": 136,
   "metadata": {
    "scrolled": true
   },
   "outputs": [
    {
     "data": {
      "image/png": "[encoded data removed]",
      "text/plain": [
       "<Figure size 432x288 with 2 Axes>"
      ]
     },
     "metadata": {
      "needs_background": "light"
     },
     "output_type": "display_data"
    }
   ],
   "source": [
    "plot_confusion_matrix(gs.best_estimator_,X_test,y_test,labels=[1, 0],cmap=plt.cm.Blues)\n",
    "plt.show()"
   ]
  },
  {
   "cell_type": "code",
   "execution_count": 137,
   "metadata": {},
   "outputs": [
    {
     "data": {
      "image/png": "[encoded data removed]",
      "text/plain": [
       "<Figure size 432x288 with 2 Axes>"
      ]
     },
     "metadata": {
      "needs_background": "light"
     },
     "output_type": "display_data"
    }
   ],
   "source": [
    "plot_confusion_matrix(gs.best_estimator_,X_test,y_test,labels=[1, 0],cmap=plt.cm.Blues,normalize='true')\n",
    "plt.show()"
   ]
  },
  {
   "cell_type": "code",
   "execution_count": 129,
   "metadata": {
    "scrolled": false
   },
   "outputs": [
    {
     "data": {
      "image/png": "[encoded data removed]",
      "text/plain": [
       "<Figure size 432x432 with 1 Axes>"
      ]
     },
     "metadata": {
      "needs_background": "light"
     },
     "output_type": "display_data"
    }
   ],
   "source": [
    "#Plotting ROC Curve\n",
    "\n",
    "fig, ax = plt.subplots(figsize=(6, 6))\n",
    "plot_roc_curve(gs.best_estimator_, X_test, y_test, ax=ax)\n",
    "ax.plot([0, 1], [0, 1], 'k--', linewidth=4)\n",
    "ax.set_title('ROC Curve')\n",
    "plt.show()"
   ]
  },
  {
   "cell_type": "code",
   "execution_count": 130,
   "metadata": {},
   "outputs": [
    {
     "data": {
      "text/plain": [
       "0.9230793144463668"
      ]
     },
     "execution_count": 130,
     "metadata": {},
     "output_type": "execute_result"
    }
   ],
   "source": [
    "roc_auc_score(y_test, gs.best_estimator_.predict_proba(X_test)[:, 1])"
   ]
  },
  {
   "cell_type": "code",
   "execution_count": 131,
   "metadata": {},
   "outputs": [
    {
     "data": {
      "image/png": "[encoded data removed]",
      "text/plain": [
       "<Figure size 432x432 with 1 Axes>"
      ]
     },
     "metadata": {
      "needs_background": "light"
     },
     "output_type": "display_data"
    }
   ],
   "source": [
    "# Plot of a precision-recall curve for class 1\n",
    "plt.fig, ax = plt.subplots(figsize=(6, 6))\n",
    "plot_precision_recall_curve(gs.best_estimator_, X_test, y_test, ax=ax)\n",
    "ax.set_title('Precision-Recall Curve')\n",
    "plt.show()"
   ]
  },
  {
   "cell_type": "code",
   "execution_count": 132,
   "metadata": {},
   "outputs": [
    {
     "data": {
      "text/plain": [
       "0.9001262492672617"
      ]
     },
     "execution_count": 132,
     "metadata": {},
     "output_type": "execute_result"
    }
   ],
   "source": [
    "average_precision_score(y_test, gs.best_estimator_.predict_proba(X_test)[:, 1])"
   ]
  },
  {
   "cell_type": "code",
   "execution_count": null,
   "metadata": {},
   "outputs": [],
   "source": []
  },
  {
   "cell_type": "code",
   "execution_count": null,
   "metadata": {},
   "outputs": [],
   "source": []
  }
 ],
 "metadata": {
  "kernelspec": {
   "display_name": "Python 3",
   "language": "python",
   "name": "python3"
  },
  "language_info": {
   "codemirror_mode": {
    "name": "ipython",
    "version": 3
   },
   "file_extension": ".py",
   "mimetype": "text/x-python",
   "name": "python",
   "nbconvert_exporter": "python",
   "pygments_lexer": "ipython3",
   "version": "3.7.1"
  },
  "toc": {
   "base_numbering": 1,
   "nav_menu": {},
   "number_sections": true,
   "sideBar": true,
   "skip_h1_title": false,
   "title_cell": "Table of Contents",
   "title_sidebar": "Contents",
   "toc_cell": false,
   "toc_position": {},
   "toc_section_display": true,
   "toc_window_display": true
  }
 },
 "nbformat": 4,
 "nbformat_minor": 2
}
