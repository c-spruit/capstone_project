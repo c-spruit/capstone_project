{
 "cells": [
  {
   "cell_type": "markdown",
   "metadata": {},
   "source": [
    "### Import"
   ]
  },
  {
   "cell_type": "code",
   "execution_count": 1,
   "metadata": {},
   "outputs": [],
   "source": [
    "import pandas as pd\n",
    "import numpy as np\n",
    "import librosa\n",
    "import matplotlib.pyplot as plt\n",
    "import seaborn as sns\n",
    "import os\n",
    "import subprocess\n",
    "from pathlib import Path\n",
    "import math\n",
    "import random\n",
    "import librosa.display\n",
    "import shutil\n",
    "\n",
    "from sklearn.neighbors import KNeighborsClassifier\n",
    "from sklearn.linear_model import LogisticRegression,LogisticRegressionCV\n",
    "from sklearn.model_selection import train_test_split,GridSearchCV, cross_val_score\n",
    "from sklearn.linear_model import LogisticRegression,LogisticRegressionCV\n",
    "from sklearn.model_selection import train_test_split,GridSearchCV\n",
    "from sklearn.preprocessing import StandardScaler\n",
    "from sklearn.svm import SVC, LinearSVC\n",
    "from sklearn.tree import DecisionTreeClassifier\n",
    "from sklearn.ensemble import VotingClassifier, StackingClassifier\n",
    "from sklearn.metrics import plot_confusion_matrix\n",
    "from sklearn.metrics import confusion_matrix\n",
    "from sklearn.metrics import classification_report"
   ]
  },
  {
   "cell_type": "markdown",
   "metadata": {},
   "source": [
    "### Load Data"
   ]
  },
  {
   "cell_type": "code",
   "execution_count": 2,
   "metadata": {},
   "outputs": [],
   "source": [
    "#load meta_data\n",
    "df=pd.read_csv('/Users/christian/Desktop/GA/public_dataset.nosync/metadata_compiled.csv')"
   ]
  },
  {
   "cell_type": "code",
   "execution_count": 3,
   "metadata": {
    "scrolled": false
   },
   "outputs": [
    {
     "name": "stdout",
     "output_type": "stream",
     "text": [
      "<class 'pandas.core.frame.DataFrame'>\n",
      "RangeIndex: 27550 entries, 0 to 27549\n",
      "Data columns (total 51 columns):\n",
      " #   Column                 Non-Null Count  Dtype  \n",
      "---  ------                 --------------  -----  \n",
      " 0   uuid                   27550 non-null  object \n",
      " 1   datetime               27550 non-null  object \n",
      " 2   cough_detected         27550 non-null  float64\n",
      " 3   SNR                    27550 non-null  float64\n",
      " 4   latitude               16084 non-null  float64\n",
      " 5   longitude              16084 non-null  float64\n",
      " 6   age                    15218 non-null  float64\n",
      " 7   gender                 16224 non-null  object \n",
      " 8   respiratory_condition  16224 non-null  object \n",
      " 9   fever_muscle_pain      16224 non-null  object \n",
      " 10  status                 16224 non-null  object \n",
      " 11  quality_1              820 non-null    object \n",
      " 12  cough_type_1           802 non-null    object \n",
      " 13  dyspnea_1              820 non-null    object \n",
      " 14  wheezing_1             820 non-null    object \n",
      " 15  stridor_1              820 non-null    object \n",
      " 16  choking_1              820 non-null    object \n",
      " 17  congestion_1           820 non-null    object \n",
      " 18  nothing_1              820 non-null    object \n",
      " 19  diagnosis_1            802 non-null    object \n",
      " 20  severity_1             802 non-null    object \n",
      " 21  quality_2              820 non-null    object \n",
      " 22  cough_type_2           801 non-null    object \n",
      " 23  dyspnea_2              820 non-null    object \n",
      " 24  wheezing_2             820 non-null    object \n",
      " 25  stridor_2              820 non-null    object \n",
      " 26  choking_2              820 non-null    object \n",
      " 27  congestion_2           820 non-null    object \n",
      " 28  nothing_2              820 non-null    object \n",
      " 29  diagnosis_2            802 non-null    object \n",
      " 30  severity_2             802 non-null    object \n",
      " 31  quality_3              820 non-null    object \n",
      " 32  cough_type_3           795 non-null    object \n",
      " 33  dyspnea_3              820 non-null    object \n",
      " 34  wheezing_3             820 non-null    object \n",
      " 35  stridor_3              820 non-null    object \n",
      " 36  choking_3              820 non-null    object \n",
      " 37  congestion_3           820 non-null    object \n",
      " 38  nothing_3              820 non-null    object \n",
      " 39  diagnosis_3            792 non-null    object \n",
      " 40  severity_3             795 non-null    object \n",
      " 41  quality_4              820 non-null    object \n",
      " 42  cough_type_4           801 non-null    object \n",
      " 43  dyspnea_4              820 non-null    object \n",
      " 44  wheezing_4             820 non-null    object \n",
      " 45  stridor_4              820 non-null    object \n",
      " 46  choking_4              820 non-null    object \n",
      " 47  congestion_4           820 non-null    object \n",
      " 48  nothing_4              820 non-null    object \n",
      " 49  diagnosis_4            789 non-null    object \n",
      " 50  severity_4             799 non-null    object \n",
      "dtypes: float64(5), object(46)\n",
      "memory usage: 10.7+ MB\n"
     ]
    }
   ],
   "source": [
    "#examine the columns in the metadata\n",
    "df.info()"
   ]
  },
  {
   "cell_type": "markdown",
   "metadata": {},
   "source": [
    "For this project I will be focusing on using the audio feautures extracted from the audio files as predictors so most of the columns will not be used."
   ]
  },
  {
   "cell_type": "code",
   "execution_count": 4,
   "metadata": {},
   "outputs": [
    {
     "data": {
      "image/png": "[encoded data removed]",
      "text/plain": [
       "<Figure size 432x288 with 1 Axes>"
      ]
     },
     "metadata": {
      "needs_background": "light"
     },
     "output_type": "display_data"
    }
   ],
   "source": [
    "#target variable, COVID-19 status distribution\n",
    "sns.countplot(x=df.status)\n",
    "plt.title('Target variable distribution')\n",
    "plt.show()"
   ]
  },
  {
   "cell_type": "markdown",
   "metadata": {},
   "source": [
    "As is stands using the full dataset would mean I would have imbalanced classes and I would have to address this accorindly. However I am going to subset on the data further and so will address this issue if it is still present."
   ]
  },
  {
   "cell_type": "markdown",
   "metadata": {},
   "source": [
    "### Subset Data"
   ]
  },
  {
   "cell_type": "markdown",
   "metadata": {},
   "source": [
    "I am proceeding with only the samples that have been analysed by expert pulmonologists. This is because these defintiely have been confirmed to either have cough present in the sample or not. I will drop the samples with no cough present.\n",
    "\n",
    "Some of the samples as shown above are labelled 'symptomatic' - they show signs of COVID-19 but are not confirmed positive. As these cases are not confirmed positive I will be dropping them from the data.\n",
    "\n"
   ]
  },
  {
   "cell_type": "code",
   "execution_count": 5,
   "metadata": {},
   "outputs": [],
   "source": [
    "#subset on coughs examined by expert pulmonologists\n",
    "df=df[df.quality_1.notnull() | df.quality_2.notnull() | df.quality_3.notnull()| df.quality_4.notnull()]\n",
    "\n",
    "#drop samples with a cough_detected score of 0\n",
    "df=df[df.cough_detected!=0]\n",
    "\n",
    "#only keep samples that are either healthy or are postive for COVID-19\n",
    "df=df[(df.status=='healthy') | (df.status=='COVID-19')]\n",
    "\n",
    "#reset the index after subsetting\n",
    "df=df.reset_index(drop=True)"
   ]
  },
  {
   "cell_type": "code",
   "execution_count": 6,
   "metadata": {},
   "outputs": [
    {
     "data": {
      "text/plain": [
       "(1465, 51)"
      ]
     },
     "execution_count": 6,
     "metadata": {},
     "output_type": "execute_result"
    }
   ],
   "source": [
    "df.shape"
   ]
  },
  {
   "cell_type": "code",
   "execution_count": 7,
   "metadata": {},
   "outputs": [
    {
     "data": {
      "image/png": "[encoded data removed]",
      "text/plain": [
       "<Figure size 864x576 with 1 Axes>"
      ]
     },
     "metadata": {
      "needs_background": "light"
     },
     "output_type": "display_data"
    }
   ],
   "source": [
    "plt.figure(figsize=(12,8))\n",
    "sns.countplot(x=df.status)\n",
    "plt.title('Target variable distribution after subset')\n",
    "plt.show()"
   ]
  },
  {
   "cell_type": "code",
   "execution_count": 9,
   "metadata": {},
   "outputs": [
    {
     "data": {
      "image/png": "[encoded data removed]",
      "text/plain": [
       "<Figure size 864x576 with 1 Axes>"
      ]
     },
     "metadata": {
      "needs_background": "light"
     },
     "output_type": "display_data"
    }
   ],
   "source": [
    "#gender distribution\n",
    "plt.figure(figsize=(12,8))\n",
    "sns.countplot(x=df.gender)\n",
    "plt.title('Gender Distribution');"
   ]
  },
  {
   "cell_type": "code",
   "execution_count": 10,
   "metadata": {},
   "outputs": [
    {
     "data": {
      "image/png": "[encoded data removed]",
      "text/plain": [
       "<Figure size 864x576 with 1 Axes>"
      ]
     },
     "metadata": {
      "needs_background": "light"
     },
     "output_type": "display_data"
    }
   ],
   "source": [
    "#Age Distribution\n",
    "plt.figure(figsize=(12,8))\n",
    "sns.histplot(df.age)\n",
    "plt.title('Age Distribution')\n",
    "plt.show()"
   ]
  },
  {
   "cell_type": "markdown",
   "metadata": {},
   "source": [
    "### Copy and Convert Files to Wav"
   ]
  },
  {
   "cell_type": "markdown",
   "metadata": {},
   "source": [
    "I will use the functions below to relocate the files and convert them to wav format. The relavant audio files can be identified by their 'uuid' in the dataframe which is the same as the filename."
   ]
  },
  {
   "cell_type": "code",
   "execution_count": 11,
   "metadata": {},
   "outputs": [],
   "source": [
    "# copy files to seperate directory\n",
    "def copy_files(folder, names_to_copy, target_folder):\n",
    "    \"\"\"Copy select files to chosen directory\n",
    "\n",
    "    folder:        path to coughvid database and metadata_compiled csv\n",
    "    names_to_copy: filenames to copy\n",
    "    target_folder: target directory  \"\"\"\n",
    "\n",
    "    for counter, name in enumerate(names_to_copy):\n",
    "\n",
    "        if os.path.isfile(folder + name + '.webm'):\n",
    "\n",
    "            original = folder + name + '.webm'\n",
    "            target = target_folder + name + '.webm'\n",
    "\n",
    "        elif os.path.isfile(folder + name + '.ogg'):\n",
    "\n",
    "            original = folder + name + '.ogg'\n",
    "            target = target_folder + name + '.ogg'\n",
    "\n",
    "        else:\n",
    "\n",
    "            print(\"Error: No file name {0}\".format(name))\n",
    "            continue\n",
    "            \n",
    "        shutil.copyfile(original, target)"
   ]
  },
  {
   "cell_type": "code",
   "execution_count": 16,
   "metadata": {},
   "outputs": [],
   "source": [
    "copy_files('../../../../public_dataset.nosync/',df.uuid,'coughvid_subset/')"
   ]
  },
  {
   "cell_type": "code",
   "execution_count": 12,
   "metadata": {},
   "outputs": [],
   "source": [
    "# Convert files to WAV\n",
    "def convert_files(folder, names_to_convert):\n",
    "    \"\"\"Convert files from .webm and .ogg to .wav\n",
    "\n",
    "    folder: path to audio files\n",
    "    names_to_convert: filenames to convert\"\"\"\n",
    "\n",
    "    # loop through list of names\n",
    "    for counter, name in enumerate(names_to_convert):\n",
    "\n",
    "        # print progress every 500 files\n",
    "        if (counter % 500 == 0):\n",
    "            print(\"Finished {0}/{1}\".format(counter, len(names_to_convert)))\n",
    "\n",
    "        # if wav file already exists continue\n",
    "        if os.path.isfile(folder + name + '.wav'):\n",
    "            continue\n",
    "\n",
    "        # else convert to wav\n",
    "        else:\n",
    "\n",
    "            if os.path.isfile(folder + name + '.webm'):\n",
    "                subprocess.call(\n",
    "                    [\"ffmpeg\", \"-i\", folder+name+\".webm\", folder+name+\".wav\"])\n",
    "\n",
    "            elif os.path.isfile(folder + name + '.ogg'):\n",
    "                subprocess.call(\n",
    "                    [\"ffmpeg\", \"-i\", folder+name+\".ogg\", folder+name+\".wav\"])\n",
    "                \n",
    "            elif os.path.isfile(folder + name + '.m4a'):\n",
    "                subprocess.call(\n",
    "                    [\"ffmpeg\", \"-i\", folder+name+\".m4a\", folder+name+\".wav\"])\n",
    "\n",
    "            else:\n",
    "                print(\"Error: No file name {0}\".format(name))"
   ]
  },
  {
   "cell_type": "code",
   "execution_count": 17,
   "metadata": {},
   "outputs": [
    {
     "name": "stdout",
     "output_type": "stream",
     "text": [
      "Finished 0/1465\n",
      "Finished 500/1465\n",
      "Finished 1000/1465\n"
     ]
    }
   ],
   "source": [
    "convert_files('coughvid_subset/',df.uuid)"
   ]
  },
  {
   "cell_type": "markdown",
   "metadata": {},
   "source": [
    "Having subsetted the dataset and converted the relavent audio samples I will now carry out the sample segmentation and feature extraction in the next notebook"
   ]
  },
  {
   "cell_type": "code",
   "execution_count": 14,
   "metadata": {},
   "outputs": [],
   "source": [
    "df.to_csv('df.csv',index=False)"
   ]
  }
 ],
 "metadata": {
  "kernelspec": {
   "display_name": "Python 3",
   "language": "python",
   "name": "python3"
  },
  "language_info": {
   "codemirror_mode": {
    "name": "ipython",
    "version": 3
   },
   "file_extension": ".py",
   "mimetype": "text/x-python",
   "name": "python",
   "nbconvert_exporter": "python",
   "pygments_lexer": "ipython3",
   "version": "3.7.1"
  },
  "toc": {
   "base_numbering": 1,
   "nav_menu": {},
   "number_sections": true,
   "sideBar": true,
   "skip_h1_title": false,
   "title_cell": "Table of Contents",
   "title_sidebar": "Contents",
   "toc_cell": false,
   "toc_position": {},
   "toc_section_display": true,
   "toc_window_display": false
  }
 },
 "nbformat": 4,
 "nbformat_minor": 2
}
